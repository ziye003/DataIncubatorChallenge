{
 "cells": [
  {
   "cell_type": "code",
   "execution_count": 242,
   "metadata": {},
   "outputs": [
    {
     "name": "stdout",
     "output_type": "stream",
     "text": [
      "showing info https://raw.githubusercontent.com/nltk/nltk_data/gh-pages/index.xml\n"
     ]
    }
   ],
   "source": [
    "import nltk\n",
    "nltk.download()\n",
    "from nltk.corpus import wordnet\n",
    "from nltk.corpus import wordnet\n",
    "import collections\n",
    "import requests\n",
    "from bs4 import BeautifulSoup\n",
    "#from requests_html import HTMLSession\n",
    "from PyDictionary import PyDictionary"
   ]
  },
  {
   "cell_type": "code",
   "execution_count": null,
   "metadata": {},
   "outputs": [],
   "source": [
    "import nltk\n",
    "from nltk.corpus import stopwords\n",
    "sw = stopwords.words(\"english\")\n",
    "from nltk.collocations import *\n",
    "bigram_measures = nltk.collocations.BigramAssocMeasures()\n",
    "trigram_measures = nltk.collocations.TrigramAssocMeasures()"
   ]
  },
  {
   "cell_type": "code",
   "execution_count": 713,
   "metadata": {},
   "outputs": [],
   "source": [
    "from contextlib import suppress"
   ]
  },
  {
   "cell_type": "code",
   "execution_count": 244,
   "metadata": {},
   "outputs": [],
   "source": [
    "import pandas as pd\n",
    "from itertools import chain\n",
    "import numpy as np\n",
    "import re\n",
    "import string\n",
    "from collections import Counter\n",
    "from os import path\n",
    "from PIL import Image\n",
    "from nltk.tokenize import word_tokenize\n",
    "from wordcloud import WordCloud, STOPWORDS, ImageColorGenerator\n",
    "import matplotlib.pyplot as plt"
   ]
  },
  {
   "cell_type": "markdown",
   "metadata": {},
   "source": [
    "# Scraped data from a webpage"
   ]
  },
  {
   "cell_type": "code",
   "execution_count": 245,
   "metadata": {},
   "outputs": [],
   "source": [
    "def Scraped_data(subject):\n",
    "    str1='https://paperswithcode.com/search?q_meta=&q_type=&q='\n",
    "    str2=subject\n",
    "    url=str1+str2\n",
    "    page = requests.get(url)\n",
    "    soup = BeautifulSoup(page.content, 'html.parser')\n",
    "    papers = soup.find_all('div', class_=\"col-lg-9 item-content\")\n",
    "    Titles=[]\n",
    "    Dates=[]\n",
    "    Abstracts=[]\n",
    "    for paper in papers:\n",
    "        # Each job_elem is a new BeautifulSoup object.\n",
    "        # You can use the same methods on it as you did before.\n",
    "        Title = paper.find('a').text.strip()\n",
    "        Titles.append(Title)\n",
    "        Date = paper.find('span',class_=\"author-name-text\")\n",
    "        if Date:\n",
    "            Date=Date.text.strip()\n",
    "            Dates.append(Date)\n",
    "        else:\n",
    "            Dates.append(np.nan)\n",
    "        Abstract = paper.find('p',class_=\"item-strip-abstract\").text.strip()\n",
    "        if Abstract:\n",
    "            Abstract = paper.find('p',class_=\"item-strip-abstract\").text.strip()\n",
    "            Abstracts.append(Abstract)\n",
    "        else:\n",
    "            Abstracts.append(np.nan)\n",
    "    d = {'Titles':Titles, 'Dates': Dates,'Abstracts':Abstracts}\n",
    "    df = pd.DataFrame(data=d)\n",
    "    return df\n",
    "\n"
   ]
  },
  {
   "cell_type": "code",
   "execution_count": 246,
   "metadata": {},
   "outputs": [],
   "source": [
    "subjects=['medical','art','computer+vision','graph','speech','time+series','audio','robots','reasoning','adversarial']"
   ]
  },
  {
   "cell_type": "code",
   "execution_count": 247,
   "metadata": {},
   "outputs": [
    {
     "data": {
      "text/html": [
       "<div>\n",
       "<style scoped>\n",
       "    .dataframe tbody tr th:only-of-type {\n",
       "        vertical-align: middle;\n",
       "    }\n",
       "\n",
       "    .dataframe tbody tr th {\n",
       "        vertical-align: top;\n",
       "    }\n",
       "\n",
       "    .dataframe thead th {\n",
       "        text-align: right;\n",
       "    }\n",
       "</style>\n",
       "<table border=\"1\" class=\"dataframe\">\n",
       "  <thead>\n",
       "    <tr style=\"text-align: right;\">\n",
       "      <th></th>\n",
       "      <th>Titles</th>\n",
       "      <th>Dates</th>\n",
       "      <th>Abstracts</th>\n",
       "    </tr>\n",
       "  </thead>\n",
       "  <tbody>\n",
       "    <tr>\n",
       "      <th>0</th>\n",
       "      <td>DDGK: Learning Graph Representations for Deep ...</td>\n",
       "      <td>21 Apr 2019</td>\n",
       "      <td>Second, for each pair of graphs, we train a cr...</td>\n",
       "    </tr>\n",
       "    <tr>\n",
       "      <th>1</th>\n",
       "      <td>Fast Linear Model for Knowledge Graph Embeddings</td>\n",
       "      <td>30 Oct 2017</td>\n",
       "      <td>This paper shows that a simple baseline based ...</td>\n",
       "    </tr>\n",
       "    <tr>\n",
       "      <th>2</th>\n",
       "      <td>Scalable Deep Generative Modeling for Sparse G...</td>\n",
       "      <td>NaN</td>\n",
       "      <td>Based on this, we develop a novel autoregressi...</td>\n",
       "    </tr>\n",
       "    <tr>\n",
       "      <th>3</th>\n",
       "      <td>Diffusion Improves Graph Learning</td>\n",
       "      <td>NaN</td>\n",
       "      <td>In this work, we remove the restriction of usi...</td>\n",
       "    </tr>\n",
       "    <tr>\n",
       "      <th>4</th>\n",
       "      <td>Learning Graph Structure With A Finite-State A...</td>\n",
       "      <td>NaN</td>\n",
       "      <td>In practice, edges are used both to represent ...</td>\n",
       "    </tr>\n",
       "    <tr>\n",
       "      <th>5</th>\n",
       "      <td>Deep Graph Library: A Graph-Centric, Highly-Pe...</td>\n",
       "      <td>3 Sep 2019</td>\n",
       "      <td>Advancing research in the emerging field of de...</td>\n",
       "    </tr>\n",
       "    <tr>\n",
       "      <th>6</th>\n",
       "      <td>Principal Neighbourhood Aggregation for Graph ...</td>\n",
       "      <td>NaN</td>\n",
       "      <td>Graph Neural Networks (GNNs) have been shown t...</td>\n",
       "    </tr>\n",
       "    <tr>\n",
       "      <th>7</th>\n",
       "      <td>Learning to Execute Programs with Instruction ...</td>\n",
       "      <td>NaN</td>\n",
       "      <td>More practically, we evaluate these models on ...</td>\n",
       "    </tr>\n",
       "    <tr>\n",
       "      <th>8</th>\n",
       "      <td>Fast Graph Representation Learning with PyTorc...</td>\n",
       "      <td>6 Mar 2019</td>\n",
       "      <td>We introduce PyTorch Geometric, a library for ...</td>\n",
       "    </tr>\n",
       "    <tr>\n",
       "      <th>9</th>\n",
       "      <td>Cluster-GCN: An Efficient Algorithm for Traini...</td>\n",
       "      <td>NaN</td>\n",
       "      <td>Furthermore, Cluster-GCN allows us to train mu...</td>\n",
       "    </tr>\n",
       "  </tbody>\n",
       "</table>\n",
       "</div>"
      ],
      "text/plain": [
       "                                              Titles        Dates  \\\n",
       "0  DDGK: Learning Graph Representations for Deep ...  21 Apr 2019   \n",
       "1   Fast Linear Model for Knowledge Graph Embeddings  30 Oct 2017   \n",
       "2  Scalable Deep Generative Modeling for Sparse G...          NaN   \n",
       "3                  Diffusion Improves Graph Learning          NaN   \n",
       "4  Learning Graph Structure With A Finite-State A...          NaN   \n",
       "5  Deep Graph Library: A Graph-Centric, Highly-Pe...   3 Sep 2019   \n",
       "6  Principal Neighbourhood Aggregation for Graph ...          NaN   \n",
       "7  Learning to Execute Programs with Instruction ...          NaN   \n",
       "8  Fast Graph Representation Learning with PyTorc...   6 Mar 2019   \n",
       "9  Cluster-GCN: An Efficient Algorithm for Traini...          NaN   \n",
       "\n",
       "                                           Abstracts  \n",
       "0  Second, for each pair of graphs, we train a cr...  \n",
       "1  This paper shows that a simple baseline based ...  \n",
       "2  Based on this, we develop a novel autoregressi...  \n",
       "3  In this work, we remove the restriction of usi...  \n",
       "4  In practice, edges are used both to represent ...  \n",
       "5  Advancing research in the emerging field of de...  \n",
       "6  Graph Neural Networks (GNNs) have been shown t...  \n",
       "7  More practically, we evaluate these models on ...  \n",
       "8  We introduce PyTorch Geometric, a library for ...  \n",
       "9  Furthermore, Cluster-GCN allows us to train mu...  "
      ]
     },
     "execution_count": 247,
     "metadata": {},
     "output_type": "execute_result"
    }
   ],
   "source": [
    "medical=Scraped_data(subjects[3])\n",
    "medical"
   ]
  },
  {
   "cell_type": "markdown",
   "metadata": {},
   "source": [
    "# Data cleaning, remove synonyms"
   ]
  },
  {
   "cell_type": "code",
   "execution_count": 590,
   "metadata": {},
   "outputs": [],
   "source": [
    "#replace words\n",
    "def text_to_words(text,sw):\n",
    "    translator = re.compile('[%s]' % re.escape(string.punctuation))\n",
    "    text =translator.sub(' ', text)\n",
    "    text = text.lower()\n",
    "    words = word_tokenize(text)\n",
    "    #words = text.split()\n",
    "    \n",
    "    vocab=[]\n",
    "    for word in words:\n",
    "        if word.isalpha() and not word in sw:\n",
    "            vocab.append(word)\n",
    "    return vocab"
   ]
  },
  {
   "cell_type": "code",
   "execution_count": 691,
   "metadata": {},
   "outputs": [],
   "source": [
    "sw.append('end')\n",
    "sw.append('lot')\n",
    "sw.append('without')\n",
    "sw.append('due')\n",
    "sw.append('uses')\n",
    "sw.append('another')\n",
    "sw.append('show')\n",
    "sw.append('used')\n",
    "sw.append('either')\n",
    "sw.append('different')\n",
    "sw.append('often')\n",
    "sw.append('contain')\n",
    "sw.append('mix')\n",
    "sw.append('including')\n",
    "sw.append('e')\n",
    "sw.append('g')"
   ]
  },
  {
   "cell_type": "code",
   "execution_count": 692,
   "metadata": {},
   "outputs": [],
   "source": [
    "# get the word list for multiple papers from different fields\n",
    "sub=[]\n",
    "wordcloud=list()\n",
    "for s in subjects:\n",
    "    As=Scraped_data(s).Abstracts\n",
    "    sub.append(s)\n",
    "    SubWords=list()\n",
    "    for A in As:\n",
    "        \n",
    "        #if A:\n",
    "        word=text_to_words(A,sw)\n",
    "        SubWords.append(word)\n",
    "        #else:\n",
    "            #SubWords.append('')\n",
    "        #SubWords = list(chain.from_iterable(SubWords))\n",
    "    wordcloud.append(SubWords)"
   ]
  },
  {
   "cell_type": "code",
   "execution_count": 693,
   "metadata": {},
   "outputs": [
    {
     "data": {
      "text/html": [
       "<div>\n",
       "<style scoped>\n",
       "    .dataframe tbody tr th:only-of-type {\n",
       "        vertical-align: middle;\n",
       "    }\n",
       "\n",
       "    .dataframe tbody tr th {\n",
       "        vertical-align: top;\n",
       "    }\n",
       "\n",
       "    .dataframe thead th {\n",
       "        text-align: right;\n",
       "    }\n",
       "</style>\n",
       "<table border=\"1\" class=\"dataframe\">\n",
       "  <thead>\n",
       "    <tr style=\"text-align: right;\">\n",
       "      <th></th>\n",
       "      <th>medical</th>\n",
       "      <th>art</th>\n",
       "      <th>computer+vision</th>\n",
       "      <th>graph</th>\n",
       "      <th>speech</th>\n",
       "      <th>time+series</th>\n",
       "      <th>audio</th>\n",
       "      <th>robots</th>\n",
       "      <th>reasoning</th>\n",
       "      <th>adversarial</th>\n",
       "    </tr>\n",
       "  </thead>\n",
       "  <tbody>\n",
       "    <tr>\n",
       "      <th>0</th>\n",
       "      <td>[generative, adversarial, networks, gained, at...</td>\n",
       "      <td>[transformer, architectures, facilitated, buil...</td>\n",
       "      <td>[convolutional, networks, core, state, art, co...</td>\n",
       "      <td>[second, pair, graphs, train, cross, graph, at...</td>\n",
       "      <td>[deep, learning, approach, recognize, english,...</td>\n",
       "      <td>[multi, horizon, forecasting, problems, comple...</td>\n",
       "      <td>[small, number, weights, sparse, wavernn, make...</td>\n",
       "      <td>[focus, project, autonomous, navigation, goal,...</td>\n",
       "      <td>[commonsense, reasoning, long, standing, chall...</td>\n",
       "      <td>[paper, develop, improved, techniques, defendi...</td>\n",
       "    </tr>\n",
       "    <tr>\n",
       "      <th>1</th>\n",
       "      <td>[niftynet, provides, modular, deep, learning, ...</td>\n",
       "      <td>[present, release, new, tool, music, source, s...</td>\n",
       "      <td>[humans, read, write, hundreds, billions, mess...</td>\n",
       "      <td>[paper, shows, simple, baseline, based, bag, w...</td>\n",
       "      <td>[first, time, learning, powerful, representati...</td>\n",
       "      <td>[observe, method, consistently, outperforms, b...</td>\n",
       "      <td>[efficient, audio, synthesis, inherently, diff...</td>\n",
       "      <td>[present, framework, data, driven, robotics, m...</td>\n",
       "      <td>[natural, language, questions, inherently, com...</td>\n",
       "      <td>[adversarial, examples, malicious, inputs, des...</td>\n",
       "    </tr>\n",
       "    <tr>\n",
       "      <th>2</th>\n",
       "      <td>[contrast, approach, building, recent, learnin...</td>\n",
       "      <td>[present, flair, nlp, framework, designed, fac...</td>\n",
       "      <td>[work, presents, kornia, open, source, compute...</td>\n",
       "      <td>[based, develop, novel, autoregressive, model,...</td>\n",
       "      <td>[present, state, art, speech, recognition, sys...</td>\n",
       "      <td>[problem, especially, hard, solve, time, serie...</td>\n",
       "      <td>[introduce, cola, self, supervised, pre, train...</td>\n",
       "      <td>[develop, software, stack, allows, smartphones...</td>\n",
       "      <td>[demonstrate, framework, pose, estimation, pro...</td>\n",
       "      <td>[form, adversarial, training, converges, degen...</td>\n",
       "    </tr>\n",
       "    <tr>\n",
       "      <th>3</th>\n",
       "      <td>[implementation, kinds, unet, models, image, s...</td>\n",
       "      <td>[text, discusses, several, popular, explanator...</td>\n",
       "      <td>[work, presents, kornia, open, source, compute...</td>\n",
       "      <td>[work, remove, restriction, using, direct, nei...</td>\n",
       "      <td>[text, speech, synthesis, system, typically, c...</td>\n",
       "      <td>[future, stock, prices, predicted, nonlinear, ...</td>\n",
       "      <td>[paper, introduces, wavenet, deep, neural, net...</td>\n",
       "      <td>[paper, introduces, pyrobot, open, source, rob...</td>\n",
       "      <td>[analogical, reasoning, effective, capturing, ...</td>\n",
       "      <td>[ask, whether, neural, networks, learn, use, s...</td>\n",
       "    </tr>\n",
       "    <tr>\n",
       "      <th>4</th>\n",
       "      <td>[define, registration, parametric, function, o...</td>\n",
       "      <td>[since, bert, neglects, dependency, among, pre...</td>\n",
       "      <td>[present, gluoncv, gluonnlp, deep, learning, t...</td>\n",
       "      <td>[practice, edges, represent, intrinsic, struct...</td>\n",
       "      <td>[clone, voice, seconds, generate, arbitrary, s...</td>\n",
       "      <td>[present, sktime, new, scikit, learn, compatib...</td>\n",
       "      <td>[recent, advances, birdsong, detection, classi...</td>\n",
       "      <td>[behavior, tree, bt, way, structure, switching...</td>\n",
       "      <td>[scene, text, image, contains, two, levels, co...</td>\n",
       "      <td>[adversarial, training, provides, means, regul...</td>\n",
       "    </tr>\n",
       "    <tr>\n",
       "      <th>5</th>\n",
       "      <td>[performance, deep, learning, significantly, a...</td>\n",
       "      <td>[first, time, learning, powerful, representati...</td>\n",
       "      <td>[despite, significant, progress, deep, learnin...</td>\n",
       "      <td>[advancing, research, emerging, field, deep, g...</td>\n",
       "      <td>[speech, synthesis, important, practical, gene...</td>\n",
       "      <td>[combination, advanced, training, techniques, ...</td>\n",
       "      <td>[within, music, information, retrieval, mir, p...</td>\n",
       "      <td>[reinforcement, learning, rl, enables, robots,...</td>\n",
       "      <td>[paper, develop, neural, assistant, single, ne...</td>\n",
       "      <td>[investigate, conditional, adversarial, networ...</td>\n",
       "    </tr>\n",
       "    <tr>\n",
       "      <th>6</th>\n",
       "      <td>[present, dltk, toolkit, providing, baseline, ...</td>\n",
       "      <td>[language, models, become, key, step, achieve,...</td>\n",
       "      <td>[computer, graphics, generate, synthetic, imag...</td>\n",
       "      <td>[graph, neural, networks, gnns, shown, effecti...</td>\n",
       "      <td>[librispeech, achieve, wer, test, use, languag...</td>\n",
       "      <td>[defending, machine, learning, models, involve...</td>\n",
       "      <td>[audio, processing, models, based, deep, neura...</td>\n",
       "      <td>[mainstream, computer, vision, machine, learni...</td>\n",
       "      <td>[probability, trees, one, simplest, models, ca...</td>\n",
       "      <td>[collecting, well, annotated, image, datasets,...</td>\n",
       "    </tr>\n",
       "    <tr>\n",
       "      <th>7</th>\n",
       "      <td>[infeasible, train, cnn, models, directly, hig...</td>\n",
       "      <td>[lxmert, build, large, scale, transformer, mod...</td>\n",
       "      <td>[since, output, event, cameras, fundamentally,...</td>\n",
       "      <td>[practically, evaluate, models, task, learning...</td>\n",
       "      <td>[experiments, wsj, reduce, wer, strong, charac...</td>\n",
       "      <td>[introduce, gluon, time, series, gluonts, avai...</td>\n",
       "      <td>[audio, signals, sampled, high, temporal, reso...</td>\n",
       "      <td>[robotics, recently, experiencing, important, ...</td>\n",
       "      <td>[hand, modeling, object, object, relationships...</td>\n",
       "      <td>[recent, years, supervised, learning, convolut...</td>\n",
       "    </tr>\n",
       "    <tr>\n",
       "      <th>8</th>\n",
       "      <td>[paper, propose, recurrent, convolutional, neu...</td>\n",
       "      <td>[transfer, learning, model, first, pre, traine...</td>\n",
       "      <td>[apart, several, image, manipulation, techniqu...</td>\n",
       "      <td>[introduce, pytorch, geometric, library, deep,...</td>\n",
       "      <td>[introduce, fairseq, fairseq, extension, speec...</td>\n",
       "      <td>[results, also, acamp, algorithm, significantl...</td>\n",
       "      <td>[summarize, experience, running, challenge, op...</td>\n",
       "      <td>[paper, presents, extension, openai, gym, robo...</td>\n",
       "      <td>[hnn, consists, two, component, models, masked...</td>\n",
       "      <td>[recent, progress, graphics, become, tractable...</td>\n",
       "    </tr>\n",
       "    <tr>\n",
       "      <th>9</th>\n",
       "      <td>[proposed, architecture, recaptures, discarded...</td>\n",
       "      <td>[transformers, potential, learning, longer, te...</td>\n",
       "      <td>[introduce, gvnn, neural, network, library, to...</td>\n",
       "      <td>[furthermore, cluster, gcn, allows, us, train,...</td>\n",
       "      <td>[self, training, unsupervised, pre, training, ...</td>\n",
       "      <td>[order, assess, methods, implementations, run,...</td>\n",
       "      <td>[propose, use, coupled, convolutional, neural,...</td>\n",
       "      <td>[detection, tracking, pose, estimation, surgic...</td>\n",
       "      <td>[structured, nature, mathematics, domain, cove...</td>\n",
       "      <td>[image, image, translation, class, vision, gra...</td>\n",
       "    </tr>\n",
       "  </tbody>\n",
       "</table>\n",
       "</div>"
      ],
      "text/plain": [
       "                                             medical  \\\n",
       "0  [generative, adversarial, networks, gained, at...   \n",
       "1  [niftynet, provides, modular, deep, learning, ...   \n",
       "2  [contrast, approach, building, recent, learnin...   \n",
       "3  [implementation, kinds, unet, models, image, s...   \n",
       "4  [define, registration, parametric, function, o...   \n",
       "5  [performance, deep, learning, significantly, a...   \n",
       "6  [present, dltk, toolkit, providing, baseline, ...   \n",
       "7  [infeasible, train, cnn, models, directly, hig...   \n",
       "8  [paper, propose, recurrent, convolutional, neu...   \n",
       "9  [proposed, architecture, recaptures, discarded...   \n",
       "\n",
       "                                                 art  \\\n",
       "0  [transformer, architectures, facilitated, buil...   \n",
       "1  [present, release, new, tool, music, source, s...   \n",
       "2  [present, flair, nlp, framework, designed, fac...   \n",
       "3  [text, discusses, several, popular, explanator...   \n",
       "4  [since, bert, neglects, dependency, among, pre...   \n",
       "5  [first, time, learning, powerful, representati...   \n",
       "6  [language, models, become, key, step, achieve,...   \n",
       "7  [lxmert, build, large, scale, transformer, mod...   \n",
       "8  [transfer, learning, model, first, pre, traine...   \n",
       "9  [transformers, potential, learning, longer, te...   \n",
       "\n",
       "                                     computer+vision  \\\n",
       "0  [convolutional, networks, core, state, art, co...   \n",
       "1  [humans, read, write, hundreds, billions, mess...   \n",
       "2  [work, presents, kornia, open, source, compute...   \n",
       "3  [work, presents, kornia, open, source, compute...   \n",
       "4  [present, gluoncv, gluonnlp, deep, learning, t...   \n",
       "5  [despite, significant, progress, deep, learnin...   \n",
       "6  [computer, graphics, generate, synthetic, imag...   \n",
       "7  [since, output, event, cameras, fundamentally,...   \n",
       "8  [apart, several, image, manipulation, techniqu...   \n",
       "9  [introduce, gvnn, neural, network, library, to...   \n",
       "\n",
       "                                               graph  \\\n",
       "0  [second, pair, graphs, train, cross, graph, at...   \n",
       "1  [paper, shows, simple, baseline, based, bag, w...   \n",
       "2  [based, develop, novel, autoregressive, model,...   \n",
       "3  [work, remove, restriction, using, direct, nei...   \n",
       "4  [practice, edges, represent, intrinsic, struct...   \n",
       "5  [advancing, research, emerging, field, deep, g...   \n",
       "6  [graph, neural, networks, gnns, shown, effecti...   \n",
       "7  [practically, evaluate, models, task, learning...   \n",
       "8  [introduce, pytorch, geometric, library, deep,...   \n",
       "9  [furthermore, cluster, gcn, allows, us, train,...   \n",
       "\n",
       "                                              speech  \\\n",
       "0  [deep, learning, approach, recognize, english,...   \n",
       "1  [first, time, learning, powerful, representati...   \n",
       "2  [present, state, art, speech, recognition, sys...   \n",
       "3  [text, speech, synthesis, system, typically, c...   \n",
       "4  [clone, voice, seconds, generate, arbitrary, s...   \n",
       "5  [speech, synthesis, important, practical, gene...   \n",
       "6  [librispeech, achieve, wer, test, use, languag...   \n",
       "7  [experiments, wsj, reduce, wer, strong, charac...   \n",
       "8  [introduce, fairseq, fairseq, extension, speec...   \n",
       "9  [self, training, unsupervised, pre, training, ...   \n",
       "\n",
       "                                         time+series  \\\n",
       "0  [multi, horizon, forecasting, problems, comple...   \n",
       "1  [observe, method, consistently, outperforms, b...   \n",
       "2  [problem, especially, hard, solve, time, serie...   \n",
       "3  [future, stock, prices, predicted, nonlinear, ...   \n",
       "4  [present, sktime, new, scikit, learn, compatib...   \n",
       "5  [combination, advanced, training, techniques, ...   \n",
       "6  [defending, machine, learning, models, involve...   \n",
       "7  [introduce, gluon, time, series, gluonts, avai...   \n",
       "8  [results, also, acamp, algorithm, significantl...   \n",
       "9  [order, assess, methods, implementations, run,...   \n",
       "\n",
       "                                               audio  \\\n",
       "0  [small, number, weights, sparse, wavernn, make...   \n",
       "1  [efficient, audio, synthesis, inherently, diff...   \n",
       "2  [introduce, cola, self, supervised, pre, train...   \n",
       "3  [paper, introduces, wavenet, deep, neural, net...   \n",
       "4  [recent, advances, birdsong, detection, classi...   \n",
       "5  [within, music, information, retrieval, mir, p...   \n",
       "6  [audio, processing, models, based, deep, neura...   \n",
       "7  [audio, signals, sampled, high, temporal, reso...   \n",
       "8  [summarize, experience, running, challenge, op...   \n",
       "9  [propose, use, coupled, convolutional, neural,...   \n",
       "\n",
       "                                              robots  \\\n",
       "0  [focus, project, autonomous, navigation, goal,...   \n",
       "1  [present, framework, data, driven, robotics, m...   \n",
       "2  [develop, software, stack, allows, smartphones...   \n",
       "3  [paper, introduces, pyrobot, open, source, rob...   \n",
       "4  [behavior, tree, bt, way, structure, switching...   \n",
       "5  [reinforcement, learning, rl, enables, robots,...   \n",
       "6  [mainstream, computer, vision, machine, learni...   \n",
       "7  [robotics, recently, experiencing, important, ...   \n",
       "8  [paper, presents, extension, openai, gym, robo...   \n",
       "9  [detection, tracking, pose, estimation, surgic...   \n",
       "\n",
       "                                           reasoning  \\\n",
       "0  [commonsense, reasoning, long, standing, chall...   \n",
       "1  [natural, language, questions, inherently, com...   \n",
       "2  [demonstrate, framework, pose, estimation, pro...   \n",
       "3  [analogical, reasoning, effective, capturing, ...   \n",
       "4  [scene, text, image, contains, two, levels, co...   \n",
       "5  [paper, develop, neural, assistant, single, ne...   \n",
       "6  [probability, trees, one, simplest, models, ca...   \n",
       "7  [hand, modeling, object, object, relationships...   \n",
       "8  [hnn, consists, two, component, models, masked...   \n",
       "9  [structured, nature, mathematics, domain, cove...   \n",
       "\n",
       "                                         adversarial  \n",
       "0  [paper, develop, improved, techniques, defendi...  \n",
       "1  [adversarial, examples, malicious, inputs, des...  \n",
       "2  [form, adversarial, training, converges, degen...  \n",
       "3  [ask, whether, neural, networks, learn, use, s...  \n",
       "4  [adversarial, training, provides, means, regul...  \n",
       "5  [investigate, conditional, adversarial, networ...  \n",
       "6  [collecting, well, annotated, image, datasets,...  \n",
       "7  [recent, years, supervised, learning, convolut...  \n",
       "8  [recent, progress, graphics, become, tractable...  \n",
       "9  [image, image, translation, class, vision, gra...  "
      ]
     },
     "execution_count": 693,
     "metadata": {},
     "output_type": "execute_result"
    }
   ],
   "source": [
    "df=np.transpose(pd.DataFrame(wordcloud,sub))\n",
    "df"
   ]
  },
  {
   "cell_type": "code",
   "execution_count": 694,
   "metadata": {},
   "outputs": [],
   "source": [
    "sums=[]\n",
    "for s in range(len(subjects)):\n",
    "    a=list([j for i in df.iloc[s] for j in i])\n",
    "    sums.append(a)\n",
    "    #sum.append([a,subjects[s]])"
   ]
  },
  {
   "cell_type": "code",
   "execution_count": 695,
   "metadata": {},
   "outputs": [
    {
     "data": {
      "text/plain": [
       "medical            [generative, adversarial, networks, gained, at...\n",
       "art                [niftynet, provides, modular, deep, learning, ...\n",
       "computer+vision    [contrast, approach, building, recent, learnin...\n",
       "graph              [implementation, kinds, unet, models, image, s...\n",
       "speech             [define, registration, parametric, function, o...\n",
       "time+series        [performance, deep, learning, significantly, a...\n",
       "audio              [present, dltk, toolkit, providing, baseline, ...\n",
       "robots             [infeasible, train, cnn, models, directly, hig...\n",
       "reasoning          [paper, propose, recurrent, convolutional, neu...\n",
       "adversarial        [proposed, architecture, recaptures, discarded...\n",
       "dtype: object"
      ]
     },
     "execution_count": 695,
     "metadata": {},
     "output_type": "execute_result"
    }
   ],
   "source": [
    "sums=pd.Series(sums,index=subjects)\n",
    "sums"
   ]
  },
  {
   "cell_type": "markdown",
   "metadata": {},
   "source": [
    "### Frequency of word for a specific dataset"
   ]
  },
  {
   "cell_type": "code",
   "execution_count": 696,
   "metadata": {},
   "outputs": [],
   "source": [
    "def find_bigrams(words):\n",
    "  \n",
    "    bigram_measures = nltk.collocations.BigramAssocMeasures()\n",
    "    \n",
    "    freq_threshold = 2\n",
    "    bigrams = []\n",
    "\n",
    "    bigram_finder = BigramCollocationFinder.from_words(words)\n",
    "    bigram_finder.apply_freq_filter(freq_threshold)\n",
    "    bigrams.append([x[0] for x in bigram_finder.score_ngrams(bigram_measures.pmi)])\n",
    "\n",
    "\n",
    "   # newWordslength=len(words)-len(bigrams[0])\n",
    "    newWords=[]\n",
    "    for w in range(len(words)-1):\n",
    "        for i in range(len(ngrams[0])):\n",
    "            if words[w]==ngrams[0][i][0] and words[w+1]==ngrams[0][i][1]:\n",
    "                newword=[]\n",
    "                ww=[words[w],words[w+1]]\n",
    "                newword= \"_\".join(ww)\n",
    "                newWords.append(newword)\n",
    "            elif w> 1 and words[w-1]==ngrams[0][i][0] and words[w]==ngrams[0][i][1]:\n",
    "                print(ww)\n",
    "            else:\n",
    "                newWords.append(words[w])\n",
    "    return bigrams,newWords"
   ]
  },
  {
   "cell_type": "code",
   "execution_count": 760,
   "metadata": {},
   "outputs": [
    {
     "name": "stdout",
     "output_type": "stream",
     "text": [
      "['use', 'propose', 'learn', 'mapping', 'set', 'context', 'run', 'task', 'form', 'result', 'speech', 'order', 'assess', 'train', 'art', 'deep'] ['using', 'proposed', 'learning', 'map', 'sets', 'setting', 'test', 'tasks', 'class', 'results', 'language', 'ranking', 'evaluate', 'aimed', 'graphics', 'deeper']\n"
     ]
    },
    {
     "data": {
      "text/html": [
       "<div>\n",
       "<style scoped>\n",
       "    .dataframe tbody tr th:only-of-type {\n",
       "        vertical-align: middle;\n",
       "    }\n",
       "\n",
       "    .dataframe tbody tr th {\n",
       "        vertical-align: top;\n",
       "    }\n",
       "\n",
       "    .dataframe thead th {\n",
       "        text-align: right;\n",
       "    }\n",
       "</style>\n",
       "<table border=\"1\" class=\"dataframe\">\n",
       "  <thead>\n",
       "    <tr style=\"text-align: right;\">\n",
       "      <th></th>\n",
       "      <th>word</th>\n",
       "      <th>freq</th>\n",
       "    </tr>\n",
       "  </thead>\n",
       "  <tbody>\n",
       "    <tr>\n",
       "      <th>0</th>\n",
       "      <td>image</td>\n",
       "      <td>20.0</td>\n",
       "    </tr>\n",
       "    <tr>\n",
       "      <th>2</th>\n",
       "      <td>training</td>\n",
       "      <td>16.0</td>\n",
       "    </tr>\n",
       "    <tr>\n",
       "      <th>1</th>\n",
       "      <td>using</td>\n",
       "      <td>NaN</td>\n",
       "    </tr>\n",
       "    <tr>\n",
       "      <th>3</th>\n",
       "      <td>gcn</td>\n",
       "      <td>12.0</td>\n",
       "    </tr>\n",
       "    <tr>\n",
       "      <th>4</th>\n",
       "      <td>proposed</td>\n",
       "      <td>NaN</td>\n",
       "    </tr>\n",
       "    <tr>\n",
       "      <th>...</th>\n",
       "      <td>...</td>\n",
       "      <td>...</td>\n",
       "    </tr>\n",
       "    <tr>\n",
       "      <th>176</th>\n",
       "      <td>wide</td>\n",
       "      <td>3.0</td>\n",
       "    </tr>\n",
       "    <tr>\n",
       "      <th>177</th>\n",
       "      <td>variety</td>\n",
       "      <td>3.0</td>\n",
       "    </tr>\n",
       "    <tr>\n",
       "      <th>178</th>\n",
       "      <td>computer_vision</td>\n",
       "      <td>1.0</td>\n",
       "    </tr>\n",
       "    <tr>\n",
       "      <th>179</th>\n",
       "      <td>deep_learning</td>\n",
       "      <td>1.0</td>\n",
       "    </tr>\n",
       "    <tr>\n",
       "      <th>180</th>\n",
       "      <td>wide_variety</td>\n",
       "      <td>1.0</td>\n",
       "    </tr>\n",
       "  </tbody>\n",
       "</table>\n",
       "<p>165 rows × 2 columns</p>\n",
       "</div>"
      ],
      "text/plain": [
       "                word  freq\n",
       "0              image  20.0\n",
       "2           training  16.0\n",
       "1              using   NaN\n",
       "3                gcn  12.0\n",
       "4           proposed   NaN\n",
       "..               ...   ...\n",
       "176             wide   3.0\n",
       "177          variety   3.0\n",
       "178  computer_vision   1.0\n",
       "179    deep_learning   1.0\n",
       "180     wide_variety   1.0\n",
       "\n",
       "[165 rows x 2 columns]"
      ]
     },
     "execution_count": 760,
     "metadata": {},
     "output_type": "execute_result"
    }
   ],
   "source": [
    "def Combine_synonyms(Sdf):\n",
    "    dict = {}\n",
    "    Sets = set()\n",
    "    rep1=[]\n",
    "    rep2=[]\n",
    "    for wordToCehck in Sdf.word:\n",
    "        if wordToCehck not in Sets:\n",
    "            synonyms=[]\n",
    "            for syn in wordnet.synsets(wordToCehck):\n",
    "                for l in syn.lemmas():\n",
    "                    synonyms.append(l.name())\n",
    "            ss=set(synonyms)            \n",
    "            Sets.update(ss)\n",
    "            for syns in ss:\n",
    "                dict[syns]=wordToCehck\n",
    "                            \n",
    "        else:\n",
    "            rootWord=dict.get(wordToCehck)\n",
    "            synf=float(Sdf.freq[Sdf.word==wordToCehck])\n",
    "            root=float(Sdf.freq[Sdf.word==rootWord])\n",
    "            Sdf.freq[Sdf.word==rootWord]= (root + synf) #delete the word with lower frequency\n",
    "            rep1.append(wordToCehck)\n",
    "            rep2.append(rootWord)\n",
    "            # \n",
    "    for r in rep1:\n",
    "        Sdf=Sdf[Sdf.word!=r]\n",
    "        \n",
    "    return Sdf,rep1,rep2;\n",
    "\n",
    "SymbigramCorrectlist,rep1,rep2=Combine_synonyms(Sdf)\n",
    "print(rep1,rep2)# check for synaonyms\n",
    "SymbigramCorrectlist"
   ]
  },
  {
   "cell_type": "code",
   "execution_count": 698,
   "metadata": {},
   "outputs": [],
   "source": [
    "def Combine_same_root_words(Sdf):\n",
    "    dict = {}\n",
    "    for wordToCehck in Sdf.word:\n",
    "        if len(word)>=5:\n",
    "            root=wordToCehck[0:4]\n",
    "            \n",
    "            if root not in dict.keys():\n",
    "                \n",
    "                dict[root] = wordToCehck\n",
    "            else:\n",
    "                rootWord=dict[root]\n",
    "                Sdf.freq[Sdf.word==rootWord]=int(Sdf.freq[Sdf.word==rootWord])+ int(Sdf.freq[Sdf.word==wordToCehck])\n",
    "                Sdf=Sdf[Sdf.word!=wordToCehck] #delete the word with lower frequency\n",
    "            \n",
    "    \n",
    "    return Sdf;\n",
    "\n"
   ]
  },
  {
   "cell_type": "code",
   "execution_count": 699,
   "metadata": {},
   "outputs": [],
   "source": [
    "subject='speech'"
   ]
  },
  {
   "cell_type": "code",
   "execution_count": 700,
   "metadata": {},
   "outputs": [
    {
     "data": {
      "text/plain": [
       "['define',\n",
       " 'registration',\n",
       " 'parametric',\n",
       " 'function',\n",
       " 'optimize',\n",
       " 'parameters',\n",
       " 'given',\n",
       " 'set',\n",
       " 'images',\n",
       " 'collection',\n",
       " 'interest',\n",
       " 'since',\n",
       " 'bert',\n",
       " 'neglects',\n",
       " 'dependency',\n",
       " 'among',\n",
       " 'predicted',\n",
       " 'tokens',\n",
       " 'xlnet',\n",
       " 'introduces',\n",
       " 'permuted',\n",
       " 'language',\n",
       " 'modeling',\n",
       " 'plm',\n",
       " 'pre',\n",
       " 'training',\n",
       " 'address',\n",
       " 'problem',\n",
       " 'present',\n",
       " 'gluoncv',\n",
       " 'gluonnlp',\n",
       " 'deep',\n",
       " 'learning',\n",
       " 'toolkits',\n",
       " 'computer',\n",
       " 'vision',\n",
       " 'natural',\n",
       " 'language',\n",
       " 'processing',\n",
       " 'based',\n",
       " 'apache',\n",
       " 'mxnet',\n",
       " 'incubating',\n",
       " 'practice',\n",
       " 'edges',\n",
       " 'represent',\n",
       " 'intrinsic',\n",
       " 'structure',\n",
       " 'abstract',\n",
       " 'syntax',\n",
       " 'trees',\n",
       " 'programs',\n",
       " 'abstract',\n",
       " 'relations',\n",
       " 'aid',\n",
       " 'reasoning',\n",
       " 'downstream',\n",
       " 'task',\n",
       " 'results',\n",
       " 'relevant',\n",
       " 'program',\n",
       " 'analyses',\n",
       " 'clone',\n",
       " 'voice',\n",
       " 'seconds',\n",
       " 'generate',\n",
       " 'arbitrary',\n",
       " 'speech',\n",
       " 'real',\n",
       " 'time',\n",
       " 'present',\n",
       " 'sktime',\n",
       " 'new',\n",
       " 'scikit',\n",
       " 'learn',\n",
       " 'compatible',\n",
       " 'python',\n",
       " 'library',\n",
       " 'unified',\n",
       " 'interface',\n",
       " 'machine',\n",
       " 'learning',\n",
       " 'time',\n",
       " 'series',\n",
       " 'recent',\n",
       " 'advances',\n",
       " 'birdsong',\n",
       " 'detection',\n",
       " 'classification',\n",
       " 'approached',\n",
       " 'limit',\n",
       " 'lack',\n",
       " 'fully',\n",
       " 'annotated',\n",
       " 'recordings',\n",
       " 'behavior',\n",
       " 'tree',\n",
       " 'bt',\n",
       " 'way',\n",
       " 'structure',\n",
       " 'switching',\n",
       " 'tasks',\n",
       " 'autonomous',\n",
       " 'agent',\n",
       " 'robot',\n",
       " 'virtual',\n",
       " 'entity',\n",
       " 'computer',\n",
       " 'game',\n",
       " 'scene',\n",
       " 'text',\n",
       " 'image',\n",
       " 'contains',\n",
       " 'two',\n",
       " 'levels',\n",
       " 'contents',\n",
       " 'visual',\n",
       " 'texture',\n",
       " 'semantic',\n",
       " 'information',\n",
       " 'adversarial',\n",
       " 'training',\n",
       " 'provides',\n",
       " 'means',\n",
       " 'regularizing',\n",
       " 'supervised',\n",
       " 'learning',\n",
       " 'algorithms',\n",
       " 'virtual',\n",
       " 'adversarial',\n",
       " 'training',\n",
       " 'able',\n",
       " 'extend',\n",
       " 'supervised',\n",
       " 'learning',\n",
       " 'algorithms',\n",
       " 'semi',\n",
       " 'supervised',\n",
       " 'setting']"
      ]
     },
     "execution_count": 700,
     "metadata": {},
     "output_type": "execute_result"
    }
   ],
   "source": [
    "sums[subject]"
   ]
  },
  {
   "cell_type": "code",
   "execution_count": 701,
   "metadata": {},
   "outputs": [
    {
     "name": "stdout",
     "output_type": "stream",
     "text": [
      "['deep', 'learning']\n",
      "['computer', 'vision']\n"
     ]
    }
   ],
   "source": [
    "bigrams,bigramCorrectlist=find_bigrams(sums[subject])"
   ]
  },
  {
   "cell_type": "code",
   "execution_count": 702,
   "metadata": {},
   "outputs": [
    {
     "data": {
      "text/plain": [
       "[('learning', 15),\n",
       " ('training', 12),\n",
       " ('supervised', 12),\n",
       " ('language', 8),\n",
       " ('present', 8),\n",
       " ('structure', 8),\n",
       " ('abstract', 8),\n",
       " ('time', 8),\n",
       " ('virtual', 8),\n",
       " ('adversarial', 8),\n",
       " ('algorithms', 8),\n",
       " ('computer', 7),\n",
       " ('define', 4),\n",
       " ('registration', 4),\n",
       " ('parametric', 4),\n",
       " ('function', 4),\n",
       " ('optimize', 4),\n",
       " ('parameters', 4),\n",
       " ('given', 4),\n",
       " ('set', 4)]"
      ]
     },
     "execution_count": 702,
     "metadata": {},
     "output_type": "execute_result"
    }
   ],
   "source": [
    "# Create counters\n",
    "counts = collections.Counter(bigramCorrectlist) #medical\n",
    "counts.most_common(20)"
   ]
  },
  {
   "cell_type": "code",
   "execution_count": 703,
   "metadata": {},
   "outputs": [
    {
     "data": {
      "text/html": [
       "<div>\n",
       "<style scoped>\n",
       "    .dataframe tbody tr th:only-of-type {\n",
       "        vertical-align: middle;\n",
       "    }\n",
       "\n",
       "    .dataframe tbody tr th {\n",
       "        vertical-align: top;\n",
       "    }\n",
       "\n",
       "    .dataframe thead th {\n",
       "        text-align: right;\n",
       "    }\n",
       "</style>\n",
       "<table border=\"1\" class=\"dataframe\">\n",
       "  <thead>\n",
       "    <tr style=\"text-align: right;\">\n",
       "      <th></th>\n",
       "      <th>word</th>\n",
       "      <th>freq</th>\n",
       "    </tr>\n",
       "  </thead>\n",
       "  <tbody>\n",
       "    <tr>\n",
       "      <th>0</th>\n",
       "      <td>learning</td>\n",
       "      <td>15</td>\n",
       "    </tr>\n",
       "    <tr>\n",
       "      <th>2</th>\n",
       "      <td>supervised</td>\n",
       "      <td>12</td>\n",
       "    </tr>\n",
       "    <tr>\n",
       "      <th>1</th>\n",
       "      <td>training</td>\n",
       "      <td>12</td>\n",
       "    </tr>\n",
       "    <tr>\n",
       "      <th>7</th>\n",
       "      <td>time</td>\n",
       "      <td>8</td>\n",
       "    </tr>\n",
       "    <tr>\n",
       "      <th>10</th>\n",
       "      <td>algorithms</td>\n",
       "      <td>8</td>\n",
       "    </tr>\n",
       "    <tr>\n",
       "      <th>...</th>\n",
       "      <td>...</td>\n",
       "      <td>...</td>\n",
       "    </tr>\n",
       "    <tr>\n",
       "      <th>40</th>\n",
       "      <td>toolkits</td>\n",
       "      <td>4</td>\n",
       "    </tr>\n",
       "    <tr>\n",
       "      <th>120</th>\n",
       "      <td>deep</td>\n",
       "      <td>3</td>\n",
       "    </tr>\n",
       "    <tr>\n",
       "      <th>121</th>\n",
       "      <td>vision</td>\n",
       "      <td>3</td>\n",
       "    </tr>\n",
       "    <tr>\n",
       "      <th>122</th>\n",
       "      <td>deep_learning</td>\n",
       "      <td>1</td>\n",
       "    </tr>\n",
       "    <tr>\n",
       "      <th>123</th>\n",
       "      <td>computer_vision</td>\n",
       "      <td>1</td>\n",
       "    </tr>\n",
       "  </tbody>\n",
       "</table>\n",
       "<p>124 rows × 2 columns</p>\n",
       "</div>"
      ],
      "text/plain": [
       "                word  freq\n",
       "0           learning    15\n",
       "2         supervised    12\n",
       "1           training    12\n",
       "7               time     8\n",
       "10        algorithms     8\n",
       "..               ...   ...\n",
       "40          toolkits     4\n",
       "120             deep     3\n",
       "121           vision     3\n",
       "122    deep_learning     1\n",
       "123  computer_vision     1\n",
       "\n",
       "[124 rows x 2 columns]"
      ]
     },
     "execution_count": 703,
     "metadata": {},
     "output_type": "execute_result"
    }
   ],
   "source": [
    "#View the counts\n",
    "Sdf = pd.DataFrame(list(counts.most_common()),columns = ['word','freq'])\n",
    "Sdf.freq.astype(int)\n",
    "Sdf=Sdf.sort_values(by='freq',ascending=False)\n",
    "Sdf"
   ]
  },
  {
   "cell_type": "code",
   "execution_count": 733,
   "metadata": {},
   "outputs": [
    {
     "name": "stdout",
     "output_type": "stream",
     "text": [
      "['model', 'framework', 'go', 'solve', 'set'] ['models', 'models', 'work', 'work', 'localized']\n"
     ]
    }
   ],
   "source": [
    "SymbigramCorrectlist,rep1,rep2=Combine_synonyms(Sdf)\n",
    "print(rep1,rep2)# check for synaonyms\n"
   ]
  },
  {
   "cell_type": "code",
   "execution_count": 734,
   "metadata": {},
   "outputs": [
    {
     "name": "stderr",
     "output_type": "stream",
     "text": [
      "C:\\Users\\Zi Ye\\anaconda3\\lib\\site-packages\\ipykernel_launcher.py:12: SettingWithCopyWarning: \n",
      "A value is trying to be set on a copy of a slice from a DataFrame\n",
      "\n",
      "See the caveats in the documentation: https://pandas.pydata.org/pandas-docs/stable/user_guide/indexing.html#returning-a-view-versus-a-copy\n",
      "  if sys.path[0] == '':\n"
     ]
    }
   ],
   "source": [
    "counts = collections.Counter(bigramCorrectlist) \n",
    "\n",
    "RootSymbigramCorrectlist=Combine_same_root_words(SymbigramCorrectlist)\n"
   ]
  },
  {
   "cell_type": "code",
   "execution_count": 735,
   "metadata": {},
   "outputs": [
    {
     "name": "stdout",
     "output_type": "stream",
     "text": [
      "          word  freq\n",
      "0         unet  24.0\n",
      "2       neural  12.0\n",
      "1         text  12.0\n",
      "9        graph   8.0\n",
      "14  introduces  12.0\n",
      "..         ...   ...\n",
      "40        upon   4.0\n",
      "49      remove   4.0\n",
      "48    problems   4.0\n",
      "45        aims   4.0\n",
      "43    routines   4.0\n",
      "\n",
      "[97 rows x 2 columns]\n"
     ]
    },
    {
     "data": {
      "text/plain": [
       "<bound method NDFrame.describe of           word  freq\n",
       "0         unet  24.0\n",
       "2       neural  12.0\n",
       "1         text  12.0\n",
       "9        graph   8.0\n",
       "14  introduces  12.0\n",
       "..         ...   ...\n",
       "40        upon   4.0\n",
       "49      remove   4.0\n",
       "48    problems   4.0\n",
       "45        aims   4.0\n",
       "43    routines   4.0\n",
       "\n",
       "[97 rows x 2 columns]>"
      ]
     },
     "execution_count": 735,
     "metadata": {},
     "output_type": "execute_result"
    }
   ],
   "source": [
    "print(RootSymbigramCorrectlist)\n",
    "RootSymbigramCorrectlist.describe"
   ]
  },
  {
   "cell_type": "code",
   "execution_count": 746,
   "metadata": {},
   "outputs": [
    {
     "name": "stdout",
     "output_type": "stream",
     "text": [
      "['computer', 'vision']\n",
      "['variety', 'tasks']\n",
      "['variety', 'tasks']\n",
      "['computer', 'vision']\n",
      "['variety', 'tasks']\n",
      "['variety', 'tasks']\n",
      "['deep', 'learning']\n",
      "['deep', 'learning']\n",
      "['project', 'modelling', 'data', 'capability', 'speech', 'recognize', 'network', 'train'] ['tasks', 'models', 'information', 'capacity', 'languages', 'known', 'networks', 'develop']\n",
      "['deep', 'learning']\n",
      "['framework', 'language', 'read', 'range', 'outperform', 'good', 'words', 'simple'] ['models', 'speech', 'recorded', 'image', 'outperforms', 'best', 'speech', 'simpler']\n",
      "['computer', 'vision']\n",
      "['computer', 'vision']\n",
      "['deep', 'learning']\n",
      "['develop', 'set', 'present', 'purpose', 'data', 'near', 'object', 'objective', 'estimation', 'work', 'image', 'function', 'formulate', 'contrast', 'speech', 'model'] ['training', 'pose', 'demonstrate', 'use', 'information', 'approach', 'target', 'target', 'approximation', 'form', 'images', 'maps', 'developed', 'line', 'language', 'models']\n",
      "['computer', 'vision']\n",
      "['computer', 'vision']\n",
      "['model', 'framework', 'go', 'solve', 'set'] ['models', 'models', 'work', 'work', 'localized']\n",
      "['deep', 'learning']\n",
      "['computer', 'vision']\n",
      "['learn', 'speech', 'way', 'set', 'define', 'task', 'represent'] ['learning', 'language', 'means', 'limit', 'limit', 'tasks', 'present']\n",
      "['deep', 'learning']\n",
      "['deep', 'learning']\n",
      "['computer', 'vision']\n",
      "['information', 'learn', 'solution', 'develop', 'modeling', 'important', 'support'] ['data', 'learning', 'resolution', 'produces', 'models', 'significant', 'reinforcement']\n",
      "['deep', 'learning']\n",
      "['computer', 'vision']\n",
      "['model', 'public', 'train', 'image', 'ground', 'art', 'effective', 'take'] ['models', 'worlds', 'training', 'images', 'based', 'graphics', 'efficient', 'guided']\n",
      "['deep', 'learning']\n",
      "['computer', 'vision']"
     ]
    },
    {
     "name": "stderr",
     "output_type": "stream",
     "text": [
      "C:\\Users\\Zi Ye\\anaconda3\\lib\\site-packages\\ipykernel_launcher.py:20: SettingWithCopyWarning: \n",
      "A value is trying to be set on a copy of a slice from a DataFrame\n",
      "\n",
      "See the caveats in the documentation: https://pandas.pydata.org/pandas-docs/stable/user_guide/indexing.html#returning-a-view-versus-a-copy\n"
     ]
    },
    {
     "name": "stdout",
     "output_type": "stream",
     "text": [
      "\n",
      "['modeling', 'store', 'need', 'relationship', 'image', 'resolution', 'function', 'event', 'require', 'accommodate'] ['model', 'memory', 'requires', 'relationships', 'seen', 'resolutions', 'work', 'events', 'requires', 'fit']\n",
      "['deep', 'learning']\n",
      "['network', 'language', 'graphics', 'manipulation', 'modeling', 'channel', 'deep'] ['net', 'speech', 'art', 'use', 'models', 'transfer', 'rich']\n",
      "['computer', 'vision']\n",
      "['deep', 'learning']\n",
      "['wide', 'variety']\n",
      "['use', 'propose', 'learn', 'mapping', 'set', 'context', 'run', 'task', 'form', 'result', 'speech', 'order', 'assess', 'train', 'art', 'deep'] ['using', 'proposed', 'learning', 'map', 'sets', 'setting', 'test', 'tasks', 'class', 'results', 'language', 'ranking', 'evaluate', 'aimed', 'graphics', 'deeper']\n"
     ]
    }
   ],
   "source": [
    "for i in subjects:\n",
    "    with suppress('20'):\n",
    "        vocabs=list()\n",
    "        subject=i\n",
    "        \n",
    "        bigrams,bigramCorrectlist=find_bigrams(sums[subject]) #find bigrams\n",
    "        \n",
    "        counts = collections.Counter(bigramCorrectlist) # Create counters\n",
    "\n",
    "        Sdf = pd.DataFrame(list(counts.most_common()),columns = ['word','freq']) #change to dataframe\n",
    "        Sdf.freq.astype(int)\n",
    "        Sdf=Sdf.sort_values(by='freq',ascending=False)\n",
    "        \n",
    "        SymbigramCorrectlist,rep1,rep2=Combine_synonyms(Sdf) #get rid of synonyms\n",
    "        print(rep1,rep2)# check for synaonyms\n",
    "        \n",
    "        counts = collections.Counter(SymbigramCorrectlist) \n",
    "        #RootSymbigramCorrectlist=Combine_same_root_words(SymbigramCorrectlist)\n",
    "        vocabs.append(SymbigramCorrectlist)\n"
   ]
  },
  {
   "cell_type": "code",
   "execution_count": 747,
   "metadata": {},
   "outputs": [
    {
     "data": {
      "text/plain": [
       "[                word  freq\n",
       " 0              image  20.0\n",
       " 2           training  16.0\n",
       " 1              using   NaN\n",
       " 3                gcn  12.0\n",
       " 4           proposed   NaN\n",
       " ..               ...   ...\n",
       " 176             wide   3.0\n",
       " 177          variety   3.0\n",
       " 178  computer_vision   1.0\n",
       " 179    deep_learning   1.0\n",
       " 180     wide_variety   1.0\n",
       " \n",
       " [165 rows x 2 columns]]"
      ]
     },
     "execution_count": 747,
     "metadata": {},
     "output_type": "execute_result"
    }
   ],
   "source": [
    "len(vocabs)\n",
    "vocabs"
   ]
  },
  {
   "cell_type": "code",
   "execution_count": 711,
   "metadata": {},
   "outputs": [
    {
     "name": "stdout",
     "output_type": "stream",
     "text": [
      "['computer', 'vision']\n",
      "['variety', 'tasks']\n",
      "['variety', 'tasks']\n",
      "['computer', 'vision']\n",
      "['variety', 'tasks']\n",
      "['variety', 'tasks']\n",
      "['deep', 'learning']\n",
      "['deep', 'learning']\n",
      "['network'] ['networks']\n"
     ]
    },
    {
     "name": "stderr",
     "output_type": "stream",
     "text": [
      "C:\\Users\\Zi Ye\\anaconda3\\lib\\site-packages\\ipykernel_launcher.py:22: SettingWithCopyWarning: \n",
      "A value is trying to be set on a copy of a slice from a DataFrame\n",
      "\n",
      "See the caveats in the documentation: https://pandas.pydata.org/pandas-docs/stable/user_guide/indexing.html#returning-a-view-versus-a-copy\n",
      "C:\\Users\\Zi Ye\\anaconda3\\lib\\site-packages\\ipykernel_launcher.py:12: SettingWithCopyWarning: \n",
      "A value is trying to be set on a copy of a slice from a DataFrame\n",
      "\n",
      "See the caveats in the documentation: https://pandas.pydata.org/pandas-docs/stable/user_guide/indexing.html#returning-a-view-versus-a-copy\n",
      "  if sys.path[0] == '':\n"
     ]
    }
   ],
   "source": [
    "subject='medical'\n",
    "bigrams,bigramCorrectlist=find_bigrams(sums[subject])\n",
    "#print(bigramCorrectlist)\n",
    "# Create counters\n",
    "counts = collections.Counter(bigramCorrectlist) #medical\n",
    "counts.most_common(20)\n",
    "#View the counts\n",
    "Sdf = pd.DataFrame(list(counts.most_common()),columns = ['word','freq'])\n",
    "Sdf.freq.astype(int)\n",
    "Sdf=Sdf.sort_values(by='freq',ascending=False)\n",
    "SymbigramCorrectlist,rep1,rep2=Combine_synonyms(Sdf)\n",
    "print(rep1,rep2)# check for synaonyms\n",
    "counts = collections.Counter(bigramCorrectlist) #medical\n",
    "RootSymbigramCorrectlist=Combine_same_root_words(SymbigramCorrectlist)\n",
    "medical=RootSymbigramCorrectlist"
   ]
  },
  {
   "cell_type": "code",
   "execution_count": 496,
   "metadata": {},
   "outputs": [
    {
     "name": "stdout",
     "output_type": "stream",
     "text": [
      "Medical, Graph and Speech studies all looks in to {'deep', 'different', 'learning', 'networks', 'models', 'reasoning', 'vision', 'audio', 'computer', 'robotics'} .\n"
     ]
    }
   ],
   "source": [
    "# medical : 0\n",
    "# time series: 5\n",
    "\n",
    "type(sum[1])\n",
    "medical=sums.medical\n",
    "graph=sums.graph\n",
    "speech=sums.robots\n",
    "Mset=set(medical)\n",
    "Gset=set(graph)\n",
    "Sset=set(speech)\n",
    "\n",
    "print('Medical, Graph and Speech studies all looks in to {} .'.format(Mset.intersection(Gset, Sset)))"
   ]
  },
  {
   "cell_type": "code",
   "execution_count": 493,
   "metadata": {},
   "outputs": [],
   "source": [
    "#Import libraries\n",
    "from matplotlib_venn import venn2, venn2_circles, venn2_unweighted\n",
    "from matplotlib_venn import venn3, venn3_circles\n",
    "from matplotlib import pyplot as plt\n",
    "%matplotlib inline"
   ]
  },
  {
   "cell_type": "code",
   "execution_count": null,
   "metadata": {},
   "outputs": [],
   "source": []
  },
  {
   "cell_type": "code",
   "execution_count": 494,
   "metadata": {},
   "outputs": [
    {
     "data": {
      "image/png": "[encoded data removed]",
      "text/plain": [
       "<Figure size 432x288 with 1 Axes>"
      ]
     },
     "metadata": {},
     "output_type": "display_data"
    }
   ],
   "source": [
    "vd3=venn3([set(medical),set(graph),set(time_seres)],set_labels=('Medical', 'Graph','Time_Secires'),\n",
    "          set_colors=('#c4e6ff', '#F4ACB7','#9D8189'), alpha = 0.8)\n",
    "venn3_circles([set(medical), set(graph),set(time_seres)], linestyle='-.', linewidth=2, color='grey')\n",
    "for text in vd3.set_labels:\n",
    "    text.set_fontsize(16);\n",
    "for text in vd3.subset_labels:\n",
    "    text.set_fontsize(16)\n",
    "plt.title('Venn Diagram for 3 Fields',fontname='Times New Roman',fontweight='bold',fontsize=20,\n",
    " pad=30,backgroundcolor='#cbe7e3',color='black',style='italic');\n",
    "plt.show()"
   ]
  },
  {
   "cell_type": "code",
   "execution_count": 205,
   "metadata": {},
   "outputs": [
    {
     "data": {
      "text/plain": [
       "[('graph', 3),\n",
       " ('time', 3),\n",
       " ('adversarial', 2),\n",
       " ('networks', 2),\n",
       " ('attention', 2),\n",
       " ('computer', 2),\n",
       " ('vision', 2),\n",
       " ('without', 2),\n",
       " ('capacity', 2),\n",
       " ('possible', 2),\n",
       " ('wide', 2),\n",
       " ('variety', 2),\n",
       " ('tasks', 2),\n",
       " ('end', 2),\n",
       " ('deep', 2),\n",
       " ('learning', 2),\n",
       " ('inputs', 2),\n",
       " ('generative', 1),\n",
       " ('gained', 1),\n",
       " ('lot', 1)]"
      ]
     },
     "execution_count": 205,
     "metadata": {},
     "output_type": "execute_result"
    }
   ],
   "source": []
  },
  {
   "cell_type": "code",
   "execution_count": 206,
   "metadata": {},
   "outputs": [
    {
     "data": {
      "text/html": [
       "<div>\n",
       "<style scoped>\n",
       "    .dataframe tbody tr th:only-of-type {\n",
       "        vertical-align: middle;\n",
       "    }\n",
       "\n",
       "    .dataframe tbody tr th {\n",
       "        vertical-align: top;\n",
       "    }\n",
       "\n",
       "    .dataframe thead th {\n",
       "        text-align: right;\n",
       "    }\n",
       "</style>\n",
       "<table border=\"1\" class=\"dataframe\">\n",
       "  <thead>\n",
       "    <tr style=\"text-align: right;\">\n",
       "      <th></th>\n",
       "      <th>words</th>\n",
       "      <th>count</th>\n",
       "    </tr>\n",
       "  </thead>\n",
       "  <tbody>\n",
       "    <tr>\n",
       "      <th>0</th>\n",
       "      <td>graph</td>\n",
       "      <td>3</td>\n",
       "    </tr>\n",
       "    <tr>\n",
       "      <th>1</th>\n",
       "      <td>time</td>\n",
       "      <td>3</td>\n",
       "    </tr>\n",
       "    <tr>\n",
       "      <th>2</th>\n",
       "      <td>adversarial</td>\n",
       "      <td>2</td>\n",
       "    </tr>\n",
       "    <tr>\n",
       "      <th>3</th>\n",
       "      <td>networks</td>\n",
       "      <td>2</td>\n",
       "    </tr>\n",
       "    <tr>\n",
       "      <th>4</th>\n",
       "      <td>attention</td>\n",
       "      <td>2</td>\n",
       "    </tr>\n",
       "  </tbody>\n",
       "</table>\n",
       "</div>"
      ],
      "text/plain": [
       "         words  count\n",
       "0        graph      3\n",
       "1         time      3\n",
       "2  adversarial      2\n",
       "3     networks      2\n",
       "4    attention      2"
      ]
     },
     "execution_count": 206,
     "metadata": {},
     "output_type": "execute_result"
    }
   ],
   "source": [
    "fdf = pd.DataFrame(counts.most_common(20),\n",
    "                             columns=['words', 'count'])\n",
    "\n",
    "fdf.head()"
   ]
  },
  {
   "cell_type": "code",
   "execution_count": 228,
   "metadata": {},
   "outputs": [
    {
     "data": {
      "image/png": "[encoded data removed]",
      "text/plain": [
       "<Figure size 432x288 with 1 Axes>"
      ]
     },
     "metadata": {
      "needs_background": "light"
     },
     "output_type": "display_data"
    }
   ],
   "source": []
  },
  {
   "cell_type": "code",
   "execution_count": 230,
   "metadata": {},
   "outputs": [
    {
     "data": {
      "image/png": "[encoded data removed]",
      "text/plain": [
       "<Figure size 576x576 with 1 Axes>"
      ]
     },
     "metadata": {
      "needs_background": "light"
     },
     "output_type": "display_data"
    }
   ],
   "source": [
    "fig, ax = plt.subplots(figsize=(8, 8))\n",
    "\n",
    "# Plot horizontal bar graph\n",
    "fdf.sort_values(by='count').plot.barh(x='words',\n",
    "                      y='count',\n",
    "                      ax=ax,\n",
    "                      color=\"purple\")\n",
    "\n",
    "ax.set_title(\"Buzz word Found in Machine learning papers\")\n",
    "\n",
    "plt.show()"
   ]
  },
  {
   "cell_type": "code",
   "execution_count": 229,
   "metadata": {},
   "outputs": [
    {
     "ename": "TypeError",
     "evalue": "expected string or bytes-like object",
     "output_type": "error",
     "traceback": [
      "\u001b[1;31m---------------------------------------------------------------------------\u001b[0m",
      "\u001b[1;31mTypeError\u001b[0m                                 Traceback (most recent call last)",
      "\u001b[1;32m<ipython-input-229-ae931fc28469>\u001b[0m in \u001b[0;36m<module>\u001b[1;34m\u001b[0m\n\u001b[0;32m      2\u001b[0m                 \u001b[0mbackground_color\u001b[0m \u001b[1;33m=\u001b[0m\u001b[1;34m'white'\u001b[0m\u001b[1;33m,\u001b[0m\u001b[1;33m\u001b[0m\u001b[1;33m\u001b[0m\u001b[0m\n\u001b[0;32m      3\u001b[0m \u001b[1;33m\u001b[0m\u001b[0m\n\u001b[1;32m----> 4\u001b[1;33m                 min_font_size = 10).generate(fdf)\n\u001b[0m\u001b[0;32m      5\u001b[0m \u001b[1;33m\u001b[0m\u001b[0m\n\u001b[0;32m      6\u001b[0m \u001b[1;31m# plot the WordCloud image\u001b[0m\u001b[1;33m\u001b[0m\u001b[1;33m\u001b[0m\u001b[1;33m\u001b[0m\u001b[0m\n",
      "\u001b[1;32m~\\anaconda3\\lib\\site-packages\\wordcloud\\wordcloud.py\u001b[0m in \u001b[0;36mgenerate\u001b[1;34m(self, text)\u001b[0m\n\u001b[0;32m    630\u001b[0m         \u001b[0mself\u001b[0m\u001b[1;33m\u001b[0m\u001b[1;33m\u001b[0m\u001b[0m\n\u001b[0;32m    631\u001b[0m         \"\"\"\n\u001b[1;32m--> 632\u001b[1;33m         \u001b[1;32mreturn\u001b[0m \u001b[0mself\u001b[0m\u001b[1;33m.\u001b[0m\u001b[0mgenerate_from_text\u001b[0m\u001b[1;33m(\u001b[0m\u001b[0mtext\u001b[0m\u001b[1;33m)\u001b[0m\u001b[1;33m\u001b[0m\u001b[1;33m\u001b[0m\u001b[0m\n\u001b[0m\u001b[0;32m    633\u001b[0m \u001b[1;33m\u001b[0m\u001b[0m\n\u001b[0;32m    634\u001b[0m     \u001b[1;32mdef\u001b[0m \u001b[0m_check_generated\u001b[0m\u001b[1;33m(\u001b[0m\u001b[0mself\u001b[0m\u001b[1;33m)\u001b[0m\u001b[1;33m:\u001b[0m\u001b[1;33m\u001b[0m\u001b[1;33m\u001b[0m\u001b[0m\n",
      "\u001b[1;32m~\\anaconda3\\lib\\site-packages\\wordcloud\\wordcloud.py\u001b[0m in \u001b[0;36mgenerate_from_text\u001b[1;34m(self, text)\u001b[0m\n\u001b[0;32m    611\u001b[0m         \u001b[0mself\u001b[0m\u001b[1;33m\u001b[0m\u001b[1;33m\u001b[0m\u001b[0m\n\u001b[0;32m    612\u001b[0m         \"\"\"\n\u001b[1;32m--> 613\u001b[1;33m         \u001b[0mwords\u001b[0m \u001b[1;33m=\u001b[0m \u001b[0mself\u001b[0m\u001b[1;33m.\u001b[0m\u001b[0mprocess_text\u001b[0m\u001b[1;33m(\u001b[0m\u001b[0mtext\u001b[0m\u001b[1;33m)\u001b[0m\u001b[1;33m\u001b[0m\u001b[1;33m\u001b[0m\u001b[0m\n\u001b[0m\u001b[0;32m    614\u001b[0m         \u001b[0mself\u001b[0m\u001b[1;33m.\u001b[0m\u001b[0mgenerate_from_frequencies\u001b[0m\u001b[1;33m(\u001b[0m\u001b[0mwords\u001b[0m\u001b[1;33m)\u001b[0m\u001b[1;33m\u001b[0m\u001b[1;33m\u001b[0m\u001b[0m\n\u001b[0;32m    615\u001b[0m         \u001b[1;32mreturn\u001b[0m \u001b[0mself\u001b[0m\u001b[1;33m\u001b[0m\u001b[1;33m\u001b[0m\u001b[0m\n",
      "\u001b[1;32m~\\anaconda3\\lib\\site-packages\\wordcloud\\wordcloud.py\u001b[0m in \u001b[0;36mprocess_text\u001b[1;34m(self, text)\u001b[0m\n\u001b[0;32m    573\u001b[0m         \u001b[0mregexp\u001b[0m \u001b[1;33m=\u001b[0m \u001b[0mself\u001b[0m\u001b[1;33m.\u001b[0m\u001b[0mregexp\u001b[0m \u001b[1;32mif\u001b[0m \u001b[0mself\u001b[0m\u001b[1;33m.\u001b[0m\u001b[0mregexp\u001b[0m \u001b[1;32mis\u001b[0m \u001b[1;32mnot\u001b[0m \u001b[1;32mNone\u001b[0m \u001b[1;32melse\u001b[0m \u001b[0mpattern\u001b[0m\u001b[1;33m\u001b[0m\u001b[1;33m\u001b[0m\u001b[0m\n\u001b[0;32m    574\u001b[0m \u001b[1;33m\u001b[0m\u001b[0m\n\u001b[1;32m--> 575\u001b[1;33m         \u001b[0mwords\u001b[0m \u001b[1;33m=\u001b[0m \u001b[0mre\u001b[0m\u001b[1;33m.\u001b[0m\u001b[0mfindall\u001b[0m\u001b[1;33m(\u001b[0m\u001b[0mregexp\u001b[0m\u001b[1;33m,\u001b[0m \u001b[0mtext\u001b[0m\u001b[1;33m,\u001b[0m \u001b[0mflags\u001b[0m\u001b[1;33m)\u001b[0m\u001b[1;33m\u001b[0m\u001b[1;33m\u001b[0m\u001b[0m\n\u001b[0m\u001b[0;32m    576\u001b[0m         \u001b[1;31m# remove 's\u001b[0m\u001b[1;33m\u001b[0m\u001b[1;33m\u001b[0m\u001b[1;33m\u001b[0m\u001b[0m\n\u001b[0;32m    577\u001b[0m         words = [word[:-2] if word.lower().endswith(\"'s\") else word\n",
      "\u001b[1;32m~\\anaconda3\\lib\\re.py\u001b[0m in \u001b[0;36mfindall\u001b[1;34m(pattern, string, flags)\u001b[0m\n\u001b[0;32m    221\u001b[0m \u001b[1;33m\u001b[0m\u001b[0m\n\u001b[0;32m    222\u001b[0m     Empty matches are included in the result.\"\"\"\n\u001b[1;32m--> 223\u001b[1;33m     \u001b[1;32mreturn\u001b[0m \u001b[0m_compile\u001b[0m\u001b[1;33m(\u001b[0m\u001b[0mpattern\u001b[0m\u001b[1;33m,\u001b[0m \u001b[0mflags\u001b[0m\u001b[1;33m)\u001b[0m\u001b[1;33m.\u001b[0m\u001b[0mfindall\u001b[0m\u001b[1;33m(\u001b[0m\u001b[0mstring\u001b[0m\u001b[1;33m)\u001b[0m\u001b[1;33m\u001b[0m\u001b[1;33m\u001b[0m\u001b[0m\n\u001b[0m\u001b[0;32m    224\u001b[0m \u001b[1;33m\u001b[0m\u001b[0m\n\u001b[0;32m    225\u001b[0m \u001b[1;32mdef\u001b[0m \u001b[0mfinditer\u001b[0m\u001b[1;33m(\u001b[0m\u001b[0mpattern\u001b[0m\u001b[1;33m,\u001b[0m \u001b[0mstring\u001b[0m\u001b[1;33m,\u001b[0m \u001b[0mflags\u001b[0m\u001b[1;33m=\u001b[0m\u001b[1;36m0\u001b[0m\u001b[1;33m)\u001b[0m\u001b[1;33m:\u001b[0m\u001b[1;33m\u001b[0m\u001b[1;33m\u001b[0m\u001b[0m\n",
      "\u001b[1;31mTypeError\u001b[0m: expected string or bytes-like object"
     ]
    }
   ],
   "source": [
    "# Start with one review:\n",
    "text = ''.join(df.medical[0])\n",
    "\n",
    "# Create and generate a word cloud image:\n",
    "wordcloud = WordCloud().generate(text)\n",
    "\n",
    "# Display the generated image:\n",
    "plt.imshow(wordcloud, interpolation='bilinear')\n",
    "plt.axis(\"off\")\n",
    "plt.show()"
   ]
  },
  {
   "cell_type": "code",
   "execution_count": 209,
   "metadata": {},
   "outputs": [],
   "source": [
    "from wordcloud import WordCloud, STOPWORDS\n",
    "import matplotlib.pyplot as plt\n",
    "import pandas as pd"
   ]
  },
  {
   "cell_type": "code",
   "execution_count": 214,
   "metadata": {},
   "outputs": [
    {
     "ename": "TypeError",
     "evalue": "'WordListCorpusReader' object is not iterable",
     "output_type": "error",
     "traceback": [
      "\u001b[1;31m---------------------------------------------------------------------------\u001b[0m",
      "\u001b[1;31mTypeError\u001b[0m                                 Traceback (most recent call last)",
      "\u001b[1;32m<ipython-input-214-6df7aaaa0daa>\u001b[0m in \u001b[0;36m<module>\u001b[1;34m\u001b[0m\n\u001b[0;32m      4\u001b[0m                 \u001b[0mbackground_color\u001b[0m \u001b[1;33m=\u001b[0m\u001b[1;34m'white'\u001b[0m\u001b[1;33m,\u001b[0m\u001b[1;33m\u001b[0m\u001b[1;33m\u001b[0m\u001b[0m\n\u001b[0;32m      5\u001b[0m                 \u001b[0mstopwords\u001b[0m \u001b[1;33m=\u001b[0m \u001b[0mstopwords\u001b[0m\u001b[1;33m,\u001b[0m\u001b[1;33m\u001b[0m\u001b[1;33m\u001b[0m\u001b[0m\n\u001b[1;32m----> 6\u001b[1;33m                 min_font_size = 10).generate(comment_words)\n\u001b[0m\u001b[0;32m      7\u001b[0m \u001b[1;33m\u001b[0m\u001b[0m\n\u001b[0;32m      8\u001b[0m \u001b[1;31m# plot the WordCloud image\u001b[0m\u001b[1;33m\u001b[0m\u001b[1;33m\u001b[0m\u001b[1;33m\u001b[0m\u001b[0m\n",
      "\u001b[1;32m~\\anaconda3\\lib\\site-packages\\wordcloud\\wordcloud.py\u001b[0m in \u001b[0;36mgenerate\u001b[1;34m(self, text)\u001b[0m\n\u001b[0;32m    630\u001b[0m         \u001b[0mself\u001b[0m\u001b[1;33m\u001b[0m\u001b[1;33m\u001b[0m\u001b[0m\n\u001b[0;32m    631\u001b[0m         \"\"\"\n\u001b[1;32m--> 632\u001b[1;33m         \u001b[1;32mreturn\u001b[0m \u001b[0mself\u001b[0m\u001b[1;33m.\u001b[0m\u001b[0mgenerate_from_text\u001b[0m\u001b[1;33m(\u001b[0m\u001b[0mtext\u001b[0m\u001b[1;33m)\u001b[0m\u001b[1;33m\u001b[0m\u001b[1;33m\u001b[0m\u001b[0m\n\u001b[0m\u001b[0;32m    633\u001b[0m \u001b[1;33m\u001b[0m\u001b[0m\n\u001b[0;32m    634\u001b[0m     \u001b[1;32mdef\u001b[0m \u001b[0m_check_generated\u001b[0m\u001b[1;33m(\u001b[0m\u001b[0mself\u001b[0m\u001b[1;33m)\u001b[0m\u001b[1;33m:\u001b[0m\u001b[1;33m\u001b[0m\u001b[1;33m\u001b[0m\u001b[0m\n",
      "\u001b[1;32m~\\anaconda3\\lib\\site-packages\\wordcloud\\wordcloud.py\u001b[0m in \u001b[0;36mgenerate_from_text\u001b[1;34m(self, text)\u001b[0m\n\u001b[0;32m    611\u001b[0m         \u001b[0mself\u001b[0m\u001b[1;33m\u001b[0m\u001b[1;33m\u001b[0m\u001b[0m\n\u001b[0;32m    612\u001b[0m         \"\"\"\n\u001b[1;32m--> 613\u001b[1;33m         \u001b[0mwords\u001b[0m \u001b[1;33m=\u001b[0m \u001b[0mself\u001b[0m\u001b[1;33m.\u001b[0m\u001b[0mprocess_text\u001b[0m\u001b[1;33m(\u001b[0m\u001b[0mtext\u001b[0m\u001b[1;33m)\u001b[0m\u001b[1;33m\u001b[0m\u001b[1;33m\u001b[0m\u001b[0m\n\u001b[0m\u001b[0;32m    614\u001b[0m         \u001b[0mself\u001b[0m\u001b[1;33m.\u001b[0m\u001b[0mgenerate_from_frequencies\u001b[0m\u001b[1;33m(\u001b[0m\u001b[0mwords\u001b[0m\u001b[1;33m)\u001b[0m\u001b[1;33m\u001b[0m\u001b[1;33m\u001b[0m\u001b[0m\n\u001b[0;32m    615\u001b[0m         \u001b[1;32mreturn\u001b[0m \u001b[0mself\u001b[0m\u001b[1;33m\u001b[0m\u001b[1;33m\u001b[0m\u001b[0m\n",
      "\u001b[1;32m~\\anaconda3\\lib\\site-packages\\wordcloud\\wordcloud.py\u001b[0m in \u001b[0;36mprocess_text\u001b[1;34m(self, text)\u001b[0m\n\u001b[0;32m    584\u001b[0m             \u001b[0mwords\u001b[0m \u001b[1;33m=\u001b[0m \u001b[1;33m[\u001b[0m\u001b[0mword\u001b[0m \u001b[1;32mfor\u001b[0m \u001b[0mword\u001b[0m \u001b[1;32min\u001b[0m \u001b[0mwords\u001b[0m \u001b[1;32mif\u001b[0m \u001b[0mlen\u001b[0m\u001b[1;33m(\u001b[0m\u001b[0mword\u001b[0m\u001b[1;33m)\u001b[0m \u001b[1;33m>=\u001b[0m \u001b[0mself\u001b[0m\u001b[1;33m.\u001b[0m\u001b[0mmin_word_length\u001b[0m\u001b[1;33m]\u001b[0m\u001b[1;33m\u001b[0m\u001b[1;33m\u001b[0m\u001b[0m\n\u001b[0;32m    585\u001b[0m \u001b[1;33m\u001b[0m\u001b[0m\n\u001b[1;32m--> 586\u001b[1;33m         \u001b[0mstopwords\u001b[0m \u001b[1;33m=\u001b[0m \u001b[0mset\u001b[0m\u001b[1;33m(\u001b[0m\u001b[1;33m[\u001b[0m\u001b[0mi\u001b[0m\u001b[1;33m.\u001b[0m\u001b[0mlower\u001b[0m\u001b[1;33m(\u001b[0m\u001b[1;33m)\u001b[0m \u001b[1;32mfor\u001b[0m \u001b[0mi\u001b[0m \u001b[1;32min\u001b[0m \u001b[0mself\u001b[0m\u001b[1;33m.\u001b[0m\u001b[0mstopwords\u001b[0m\u001b[1;33m]\u001b[0m\u001b[1;33m)\u001b[0m\u001b[1;33m\u001b[0m\u001b[1;33m\u001b[0m\u001b[0m\n\u001b[0m\u001b[0;32m    587\u001b[0m         \u001b[1;32mif\u001b[0m \u001b[0mself\u001b[0m\u001b[1;33m.\u001b[0m\u001b[0mcollocations\u001b[0m\u001b[1;33m:\u001b[0m\u001b[1;33m\u001b[0m\u001b[1;33m\u001b[0m\u001b[0m\n\u001b[0;32m    588\u001b[0m             \u001b[0mword_counts\u001b[0m \u001b[1;33m=\u001b[0m \u001b[0munigrams_and_bigrams\u001b[0m\u001b[1;33m(\u001b[0m\u001b[0mwords\u001b[0m\u001b[1;33m,\u001b[0m \u001b[0mstopwords\u001b[0m\u001b[1;33m,\u001b[0m \u001b[0mself\u001b[0m\u001b[1;33m.\u001b[0m\u001b[0mnormalize_plurals\u001b[0m\u001b[1;33m,\u001b[0m \u001b[0mself\u001b[0m\u001b[1;33m.\u001b[0m\u001b[0mcollocation_threshold\u001b[0m\u001b[1;33m)\u001b[0m\u001b[1;33m\u001b[0m\u001b[1;33m\u001b[0m\u001b[0m\n",
      "\u001b[1;31mTypeError\u001b[0m: 'WordListCorpusReader' object is not iterable"
     ]
    }
   ],
   "source": [
    "comment_words = ''\n",
    "comment_words += \" \".join(medical)+\" \"  \n",
    "wordcloud = WordCloud(width = 800, height = 800,\n",
    "                background_color ='white',\n",
    "                stopwords = stopwords,\n",
    "                min_font_size = 10).generate(comment_words)\n",
    "  \n",
    "# plot the WordCloud image                       \n",
    "plt.figure(figsize = (8, 8), facecolor = None)\n",
    "plt.imshow(wordcloud)\n",
    "plt.axis(\"off\")\n",
    "plt.tight_layout(pad = 0)\n",
    "  \n",
    "plt.show()"
   ]
  },
  {
   "cell_type": "code",
   "execution_count": 195,
   "metadata": {},
   "outputs": [],
   "source": [
    "\n"
   ]
  },
  {
   "cell_type": "code",
   "execution_count": 199,
   "metadata": {},
   "outputs": [
    {
     "ename": "TypeError",
     "evalue": "'module' object is not callable",
     "output_type": "error",
     "traceback": [
      "\u001b[1;31m---------------------------------------------------------------------------\u001b[0m",
      "\u001b[1;31mTypeError\u001b[0m                                 Traceback (most recent call last)",
      "\u001b[1;32m<ipython-input-199-4a7a8b8fd9d7>\u001b[0m in \u001b[0;36m<module>\u001b[1;34m\u001b[0m\n\u001b[1;32m----> 1\u001b[1;33m \u001b[0mget_synonyms\u001b[0m\u001b[1;33m(\u001b[0m\u001b[0mstr\u001b[0m\u001b[1;33m(\u001b[0m\u001b[0msum\u001b[0m\u001b[1;33m[\u001b[0m\u001b[1;36m1\u001b[0m\u001b[1;33m]\u001b[0m\u001b[1;33m[\u001b[0m\u001b[1;36m2\u001b[0m\u001b[1;33m]\u001b[0m\u001b[1;33m)\u001b[0m\u001b[1;33m)\u001b[0m\u001b[1;33m\u001b[0m\u001b[1;33m\u001b[0m\u001b[0m\n\u001b[0m",
      "\u001b[1;32m<ipython-input-195-e3b39c611668>\u001b[0m in \u001b[0;36mget_synonyms\u001b[1;34m(word)\u001b[0m\n\u001b[0;32m      1\u001b[0m \u001b[0mClsets\u001b[0m \u001b[1;33m=\u001b[0m \u001b[1;33m{\u001b[0m\u001b[1;33m}\u001b[0m\u001b[1;33m\u001b[0m\u001b[1;33m\u001b[0m\u001b[0m\n\u001b[0;32m      2\u001b[0m \u001b[1;32mdef\u001b[0m \u001b[0mget_synonyms\u001b[0m\u001b[1;33m(\u001b[0m\u001b[0mword\u001b[0m\u001b[1;33m)\u001b[0m\u001b[1;33m:\u001b[0m\u001b[1;33m\u001b[0m\u001b[1;33m\u001b[0m\u001b[0m\n\u001b[1;32m----> 3\u001b[1;33m     \u001b[0mdictionary\u001b[0m \u001b[1;33m=\u001b[0m \u001b[0mPyDictionary\u001b[0m\u001b[1;33m(\u001b[0m\u001b[0mword\u001b[0m\u001b[1;33m)\u001b[0m\u001b[1;33m\u001b[0m\u001b[1;33m\u001b[0m\u001b[0m\n\u001b[0m\u001b[0;32m      4\u001b[0m     \u001b[0msynonym\u001b[0m \u001b[1;33m=\u001b[0m \u001b[0mdictionary\u001b[0m\u001b[1;33m.\u001b[0m\u001b[0mgetSynonyms\u001b[0m\u001b[1;33m(\u001b[0m\u001b[1;33m)\u001b[0m\u001b[1;33m\u001b[0m\u001b[1;33m\u001b[0m\u001b[0m\n\u001b[0;32m      5\u001b[0m     \u001b[1;32mreturn\u001b[0m \u001b[0msynonym\u001b[0m\u001b[1;33m\u001b[0m\u001b[1;33m\u001b[0m\u001b[0m\n",
      "\u001b[1;31mTypeError\u001b[0m: 'module' object is not callable"
     ]
    }
   ],
   "source": [
    "get_synonyms(str(sum[1][2]))"
   ]
  },
  {
   "cell_type": "code",
   "execution_count": 190,
   "metadata": {},
   "outputs": [],
   "source": [
    "def generate_word_frequencies(words):\n",
    "   # list to hold word frequencies\n",
    "    word_frequencies = []\n",
    "\n",
    "   # loop through the tokens and generate a word count for each token\n",
    "    for word in words:\n",
    "        word_frequencies.append(words.count(word))\n",
    "\n",
    "   # aggregates the words and word_frequencies into tuples and coverts them into a dictionary\n",
    "        word_frequencies = (dict(zip(words, word_frequencies)))\n",
    "\n",
    "   # sort the frequency of the words from low to high\n",
    "        sorted_frequencies = {key: value for key, value in \n",
    "        sorted(word_frequencies.items(), key=lambda item: item[1])}\n",
    "\n",
    "    return sorted_frequencies"
   ]
  },
  {
   "cell_type": "code",
   "execution_count": 193,
   "metadata": {},
   "outputs": [
    {
     "ename": "AttributeError",
     "evalue": "'dict' object has no attribute 'append'",
     "output_type": "error",
     "traceback": [
      "\u001b[1;31m---------------------------------------------------------------------------\u001b[0m",
      "\u001b[1;31mAttributeError\u001b[0m                            Traceback (most recent call last)",
      "\u001b[1;32m<ipython-input-193-2c541c96db4f>\u001b[0m in \u001b[0;36m<module>\u001b[1;34m\u001b[0m\n\u001b[1;32m----> 1\u001b[1;33m \u001b[0mfrequencies\u001b[0m \u001b[1;33m=\u001b[0m \u001b[0mgenerate_word_frequencies\u001b[0m\u001b[1;33m(\u001b[0m\u001b[0msum\u001b[0m\u001b[1;33m[\u001b[0m\u001b[1;36m1\u001b[0m\u001b[1;33m]\u001b[0m\u001b[1;33m)\u001b[0m\u001b[1;33m\u001b[0m\u001b[1;33m\u001b[0m\u001b[0m\n\u001b[0m",
      "\u001b[1;32m<ipython-input-190-2bca6ae263a4>\u001b[0m in \u001b[0;36mgenerate_word_frequencies\u001b[1;34m(words)\u001b[0m\n\u001b[0;32m      5\u001b[0m    \u001b[1;31m# loop through the tokens and generate a word count for each token\u001b[0m\u001b[1;33m\u001b[0m\u001b[1;33m\u001b[0m\u001b[1;33m\u001b[0m\u001b[0m\n\u001b[0;32m      6\u001b[0m     \u001b[1;32mfor\u001b[0m \u001b[0mword\u001b[0m \u001b[1;32min\u001b[0m \u001b[0mwords\u001b[0m\u001b[1;33m:\u001b[0m\u001b[1;33m\u001b[0m\u001b[1;33m\u001b[0m\u001b[0m\n\u001b[1;32m----> 7\u001b[1;33m         \u001b[0mword_frequencies\u001b[0m\u001b[1;33m.\u001b[0m\u001b[0mappend\u001b[0m\u001b[1;33m(\u001b[0m\u001b[0mwords\u001b[0m\u001b[1;33m.\u001b[0m\u001b[0mcount\u001b[0m\u001b[1;33m(\u001b[0m\u001b[0mword\u001b[0m\u001b[1;33m)\u001b[0m\u001b[1;33m)\u001b[0m\u001b[1;33m\u001b[0m\u001b[1;33m\u001b[0m\u001b[0m\n\u001b[0m\u001b[0;32m      8\u001b[0m \u001b[1;33m\u001b[0m\u001b[0m\n\u001b[0;32m      9\u001b[0m    \u001b[1;31m# aggregates the words and word_frequencies into tuples and coverts them into a dictionary\u001b[0m\u001b[1;33m\u001b[0m\u001b[1;33m\u001b[0m\u001b[1;33m\u001b[0m\u001b[0m\n",
      "\u001b[1;31mAttributeError\u001b[0m: 'dict' object has no attribute 'append'"
     ]
    }
   ],
   "source": [
    "frequencies = generate_word_frequencies(sum[1])"
   ]
  },
  {
   "cell_type": "code",
   "execution_count": 316,
   "metadata": {},
   "outputs": [
    {
     "ename": "TypeError",
     "evalue": "expected string or bytes-like object",
     "output_type": "error",
     "traceback": [
      "\u001b[1;31m---------------------------------------------------------------------------\u001b[0m",
      "\u001b[1;31mTypeError\u001b[0m                                 Traceback (most recent call last)",
      "\u001b[1;32m<ipython-input-316-23374bb6616a>\u001b[0m in \u001b[0;36m<module>\u001b[1;34m\u001b[0m\n\u001b[0;32m      3\u001b[0m \u001b[1;33m\u001b[0m\u001b[0m\n\u001b[0;32m      4\u001b[0m \u001b[1;31m# Create and generate a word cloud image:\u001b[0m\u001b[1;33m\u001b[0m\u001b[1;33m\u001b[0m\u001b[1;33m\u001b[0m\u001b[0m\n\u001b[1;32m----> 5\u001b[1;33m \u001b[0mwordcloud\u001b[0m \u001b[1;33m=\u001b[0m \u001b[0mWordCloud\u001b[0m\u001b[1;33m(\u001b[0m\u001b[1;33m)\u001b[0m\u001b[1;33m.\u001b[0m\u001b[0mgenerate\u001b[0m\u001b[1;33m(\u001b[0m\u001b[0mtext\u001b[0m\u001b[1;33m)\u001b[0m\u001b[1;33m\u001b[0m\u001b[1;33m\u001b[0m\u001b[0m\n\u001b[0m\u001b[0;32m      6\u001b[0m \u001b[1;33m\u001b[0m\u001b[0m\n\u001b[0;32m      7\u001b[0m \u001b[1;31m# Display the generated image:\u001b[0m\u001b[1;33m\u001b[0m\u001b[1;33m\u001b[0m\u001b[1;33m\u001b[0m\u001b[0m\n",
      "\u001b[1;32m~\\anaconda3\\lib\\site-packages\\wordcloud\\wordcloud.py\u001b[0m in \u001b[0;36mgenerate\u001b[1;34m(self, text)\u001b[0m\n\u001b[0;32m    630\u001b[0m         \u001b[0mself\u001b[0m\u001b[1;33m\u001b[0m\u001b[1;33m\u001b[0m\u001b[0m\n\u001b[0;32m    631\u001b[0m         \"\"\"\n\u001b[1;32m--> 632\u001b[1;33m         \u001b[1;32mreturn\u001b[0m \u001b[0mself\u001b[0m\u001b[1;33m.\u001b[0m\u001b[0mgenerate_from_text\u001b[0m\u001b[1;33m(\u001b[0m\u001b[0mtext\u001b[0m\u001b[1;33m)\u001b[0m\u001b[1;33m\u001b[0m\u001b[1;33m\u001b[0m\u001b[0m\n\u001b[0m\u001b[0;32m    633\u001b[0m \u001b[1;33m\u001b[0m\u001b[0m\n\u001b[0;32m    634\u001b[0m     \u001b[1;32mdef\u001b[0m \u001b[0m_check_generated\u001b[0m\u001b[1;33m(\u001b[0m\u001b[0mself\u001b[0m\u001b[1;33m)\u001b[0m\u001b[1;33m:\u001b[0m\u001b[1;33m\u001b[0m\u001b[1;33m\u001b[0m\u001b[0m\n",
      "\u001b[1;32m~\\anaconda3\\lib\\site-packages\\wordcloud\\wordcloud.py\u001b[0m in \u001b[0;36mgenerate_from_text\u001b[1;34m(self, text)\u001b[0m\n\u001b[0;32m    611\u001b[0m         \u001b[0mself\u001b[0m\u001b[1;33m\u001b[0m\u001b[1;33m\u001b[0m\u001b[0m\n\u001b[0;32m    612\u001b[0m         \"\"\"\n\u001b[1;32m--> 613\u001b[1;33m         \u001b[0mwords\u001b[0m \u001b[1;33m=\u001b[0m \u001b[0mself\u001b[0m\u001b[1;33m.\u001b[0m\u001b[0mprocess_text\u001b[0m\u001b[1;33m(\u001b[0m\u001b[0mtext\u001b[0m\u001b[1;33m)\u001b[0m\u001b[1;33m\u001b[0m\u001b[1;33m\u001b[0m\u001b[0m\n\u001b[0m\u001b[0;32m    614\u001b[0m         \u001b[0mself\u001b[0m\u001b[1;33m.\u001b[0m\u001b[0mgenerate_from_frequencies\u001b[0m\u001b[1;33m(\u001b[0m\u001b[0mwords\u001b[0m\u001b[1;33m)\u001b[0m\u001b[1;33m\u001b[0m\u001b[1;33m\u001b[0m\u001b[0m\n\u001b[0;32m    615\u001b[0m         \u001b[1;32mreturn\u001b[0m \u001b[0mself\u001b[0m\u001b[1;33m\u001b[0m\u001b[1;33m\u001b[0m\u001b[0m\n",
      "\u001b[1;32m~\\anaconda3\\lib\\site-packages\\wordcloud\\wordcloud.py\u001b[0m in \u001b[0;36mprocess_text\u001b[1;34m(self, text)\u001b[0m\n\u001b[0;32m    573\u001b[0m         \u001b[0mregexp\u001b[0m \u001b[1;33m=\u001b[0m \u001b[0mself\u001b[0m\u001b[1;33m.\u001b[0m\u001b[0mregexp\u001b[0m \u001b[1;32mif\u001b[0m \u001b[0mself\u001b[0m\u001b[1;33m.\u001b[0m\u001b[0mregexp\u001b[0m \u001b[1;32mis\u001b[0m \u001b[1;32mnot\u001b[0m \u001b[1;32mNone\u001b[0m \u001b[1;32melse\u001b[0m \u001b[0mpattern\u001b[0m\u001b[1;33m\u001b[0m\u001b[1;33m\u001b[0m\u001b[0m\n\u001b[0;32m    574\u001b[0m \u001b[1;33m\u001b[0m\u001b[0m\n\u001b[1;32m--> 575\u001b[1;33m         \u001b[0mwords\u001b[0m \u001b[1;33m=\u001b[0m \u001b[0mre\u001b[0m\u001b[1;33m.\u001b[0m\u001b[0mfindall\u001b[0m\u001b[1;33m(\u001b[0m\u001b[0mregexp\u001b[0m\u001b[1;33m,\u001b[0m \u001b[0mtext\u001b[0m\u001b[1;33m,\u001b[0m \u001b[0mflags\u001b[0m\u001b[1;33m)\u001b[0m\u001b[1;33m\u001b[0m\u001b[1;33m\u001b[0m\u001b[0m\n\u001b[0m\u001b[0;32m    576\u001b[0m         \u001b[1;31m# remove 's\u001b[0m\u001b[1;33m\u001b[0m\u001b[1;33m\u001b[0m\u001b[1;33m\u001b[0m\u001b[0m\n\u001b[0;32m    577\u001b[0m         words = [word[:-2] if word.lower().endswith(\"'s\") else word\n",
      "\u001b[1;32m~\\anaconda3\\lib\\re.py\u001b[0m in \u001b[0;36mfindall\u001b[1;34m(pattern, string, flags)\u001b[0m\n\u001b[0;32m    221\u001b[0m \u001b[1;33m\u001b[0m\u001b[0m\n\u001b[0;32m    222\u001b[0m     Empty matches are included in the result.\"\"\"\n\u001b[1;32m--> 223\u001b[1;33m     \u001b[1;32mreturn\u001b[0m \u001b[0m_compile\u001b[0m\u001b[1;33m(\u001b[0m\u001b[0mpattern\u001b[0m\u001b[1;33m,\u001b[0m \u001b[0mflags\u001b[0m\u001b[1;33m)\u001b[0m\u001b[1;33m.\u001b[0m\u001b[0mfindall\u001b[0m\u001b[1;33m(\u001b[0m\u001b[0mstring\u001b[0m\u001b[1;33m)\u001b[0m\u001b[1;33m\u001b[0m\u001b[1;33m\u001b[0m\u001b[0m\n\u001b[0m\u001b[0;32m    224\u001b[0m \u001b[1;33m\u001b[0m\u001b[0m\n\u001b[0;32m    225\u001b[0m \u001b[1;32mdef\u001b[0m \u001b[0mfinditer\u001b[0m\u001b[1;33m(\u001b[0m\u001b[0mpattern\u001b[0m\u001b[1;33m,\u001b[0m \u001b[0mstring\u001b[0m\u001b[1;33m,\u001b[0m \u001b[0mflags\u001b[0m\u001b[1;33m=\u001b[0m\u001b[1;36m0\u001b[0m\u001b[1;33m)\u001b[0m\u001b[1;33m:\u001b[0m\u001b[1;33m\u001b[0m\u001b[1;33m\u001b[0m\u001b[0m\n",
      "\u001b[1;31mTypeError\u001b[0m: expected string or bytes-like object"
     ]
    }
   ],
   "source": [
    "def generate_word_frequencies(words):\n",
    "   # list to hold word frequencies\n",
    "   word_frequencies = []\n",
    "\n",
    "   # loop through the tokens and generate a word count for each token\n",
    "   for word in words:\n",
    "      word_frequencies.append(words.count(word))\n",
    "\n",
    "   # aggregates the words and word_frequencies into tuples and coverts them into a dictionary\n",
    "   word_frequencies = (dict(zip(words, word_frequencies)))\n",
    "\n",
    "   # sort the frequency of the words from low to high\n",
    "   sorted_frequencies = {key: value for key, value in \n",
    "   sorted(word_frequencies.items(), key=lambda item: item[1])}\n",
    "\n",
    " return sorted_frequencies\n",
    "\n",
    "\n",
    "def get_synonyms_internet(word):\n",
    "   dictionary = PyDictionary(word)\n",
    "   synonym = dictionary.getSynonyms()\n",
    "   return synonym\n",
    "\n",
    "all_synsets_1 = {}\n",
    "for word in words:\n",
    "  for synonym in wordnet.synsets(word):\n",
    "    if word != synonym.name() and len(synonym.lemma_names()) > 1:\n",
    "      for item in synonym.lemmas():\n",
    "        if word != item.name():\n",
    "          all_synsets_1.setdefault(word, []).append(str(item.name()).lower())\n",
    "\n",
    "all_synsets_2 = {}\n",
    "for word in words:\n",
    "  word_synonyms = get_synonyms_internet(word)\n",
    "  for synonym in word_synonyms:\n",
    "    if word != synonym and synonym is not None:\n",
    "      all_synsets_2.update(synonym)\n",
    "\n",
    " word_relationship = {**all_synsets_1, **all_synsets_2}\n",
    "\n",
    " frequencies = generate_word_frequencies(words)\n",
    " word_matches = []\n",
    " word_set = {}\n",
    " duplication_check = set()\n",
    "\n",
    " for word, frequency in frequencies.items():\n",
    "    for keyword, synonym in word_relationship.items():\n",
    "       match = [x for x in synonym if word == x]\n",
    "       if word == keyword or match:\n",
    "         match = ' '.join(map(str, match))\n",
    "         if match not in word_set or match not in duplication_check or word not in duplication_check:\n",
    "            duplication_check.add(word)\n",
    "            duplication_check.add(match)\n",
    "            word_matches.append([keyword, match, frequency])\n",
    "\n",
    " # used to hold the final keyword and frequencies\n",
    " final_results = {}\n",
    "\n",
    " # list comprehension to obtain the primary keyword and its frequencies\n",
    " synonym_matches = [(keyword[0], keyword[2]) for keyword in word_matches]\n",
    "\n",
    " # iterate synonym_matches and output total frequency count for a specific keyword\n",
    " for item in synonym_matches:\n",
    "    if item[0] not in final_results.keys():\n",
    "      frequency_count = 0\n",
    "      frequency_count = frequency_count + item[1]\n",
    "      final_results[item[0]] = frequency_count\n",
    " else:\n",
    "    frequency_count = frequency_count + item[1]\n",
    "    final_results[item[0]] = frequency_count\n",
    "\n",
    "# do something with the final results"
   ]
  },
  {
   "cell_type": "code",
   "execution_count": null,
   "metadata": {},
   "outputs": [],
   "source": []
  }
 ],
 "metadata": {
  "kernelspec": {
   "display_name": "Python 3",
   "language": "python",
   "name": "python3"
  },
  "language_info": {
   "codemirror_mode": {
    "name": "ipython",
    "version": 3
   },
   "file_extension": ".py",
   "mimetype": "text/x-python",
   "name": "python",
   "nbconvert_exporter": "python",
   "pygments_lexer": "ipython3",
   "version": "3.7.6"
  }
 },
 "nbformat": 4,
 "nbformat_minor": 4
}
